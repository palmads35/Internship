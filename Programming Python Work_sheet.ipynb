{
 "cells": [
  {
   "cell_type": "code",
   "execution_count": null,
   "id": "a79b042c",
   "metadata": {},
   "outputs": [],
   "source": [
    "#Programming  Assignments in Python."
   ]
  },
  {
   "cell_type": "code",
   "execution_count": 20,
   "id": "8ac065cd",
   "metadata": {},
   "outputs": [
    {
     "name": "stdout",
     "output_type": "stream",
     "text": [
      "The factorial of 6 is 720\n"
     ]
    }
   ],
   "source": [
    "# 11.Python program to find the factorial of a number\n",
    "def factorial(num):\n",
    "    return 1 if (num==1 or num==0) else num * factorial(num-1);\n",
    "number = 6\n",
    "print(\"The factorial of\",number,\"is\",factorial(number))"
   ]
  },
  {
   "cell_type": "code",
   "execution_count": 2,
   "id": "f56e7682",
   "metadata": {},
   "outputs": [
    {
     "name": "stdout",
     "output_type": "stream",
     "text": [
      "Enter any number:    9\n",
      "9 IS NOT A PRIME NUMBER\n"
     ]
    }
   ],
   "source": [
    "#12. Write a pyhton program to find whether number is prime or \n",
    "num = int(input('Enter any number:    '))\n",
    "if num > 1:\n",
    "    for i in range(2,num):\n",
    "        if (num % i) ==0:\n",
    "            print(num,'IS NOT A PRIME NUMBER')\n",
    "            break\n",
    "   \n",
    "    else:\n",
    "        print(num, \"is a PRIME number\")\n",
    "elif num == 0 or 1:\n",
    "    print(num, \"is a neither prime NOR composite number\")\n",
    "else:\n",
    "    print(num, \"is NOT a prime number it is a COMPOSITE number\")"
   ]
  },
  {
   "cell_type": "code",
   "execution_count": 1,
   "id": "fdb12dc5",
   "metadata": {},
   "outputs": [
    {
     "name": "stdout",
     "output_type": "stream",
     "text": [
      "Yes\n"
     ]
    }
   ],
   "source": [
    "# Write a pyhton program to check whether a given string palindrome or not.\n",
    "def isPalindrome(s):\n",
    "    return s == s[::-1]\n",
    " \n",
    " \n",
    "s = \"radar\"\n",
    "ans = isPalindrome(s)\n",
    " \n",
    "if ans:\n",
    "    print(\"Yes\")\n",
    "else:\n",
    "    print(\"No\")"
   ]
  },
  {
   "cell_type": "code",
   "execution_count": 21,
   "id": "0548d2f5",
   "metadata": {},
   "outputs": [
    {
     "name": "stdout",
     "output_type": "stream",
     "text": [
      "The count of all characters in Ravindra is :\n",
      " {'d': 1, 'v': 1, 'i': 1, 'n': 1, 'r': 1, 'R': 1, 'a': 2}\n"
     ]
    }
   ],
   "source": [
    "# Write a python program to print the frequency of each of the characters present in a given string \n",
    "    test_str = \"Ravindra\"\n",
    "  \n",
    "# using set() + count() to get count \n",
    "# of each element in string \n",
    "res = {i : test_str.count(i) for i in set(test_str)}\n",
    "  \n",
    "# printing result \n",
    "print (\"The count of all characters in Ravindra is :\\n \"\n",
    "                                               +  str(res))"
   ]
  },
  {
   "cell_type": "code",
   "execution_count": null,
   "id": "6ef4269a",
   "metadata": {},
   "outputs": [],
   "source": []
  }
 ],
 "metadata": {
  "kernelspec": {
   "display_name": "Python 3 (ipykernel)",
   "language": "python",
   "name": "python3"
  },
  "language_info": {
   "codemirror_mode": {
    "name": "ipython",
    "version": 3
   },
   "file_extension": ".py",
   "mimetype": "text/x-python",
   "name": "python",
   "nbconvert_exporter": "python",
   "pygments_lexer": "ipython3",
   "version": "3.9.7"
  }
 },
 "nbformat": 4,
 "nbformat_minor": 5
}
