{
 "cells": [
  {
   "cell_type": "code",
   "execution_count": 29,
   "id": "c3a7fa22",
   "metadata": {},
   "outputs": [
    {
     "name": "stdout",
     "output_type": "stream",
     "text": [
      "Requirement already satisfied: selenium in c:\\users\\haufa617\\anaconda3\\lib\\site-packages (4.3.0)\n",
      "Requirement already satisfied: trio~=0.17 in c:\\users\\haufa617\\anaconda3\\lib\\site-packages (from selenium) (0.21.0)\n",
      "Requirement already satisfied: trio-websocket~=0.9 in c:\\users\\haufa617\\anaconda3\\lib\\site-packages (from selenium) (0.9.2)\n",
      "Requirement already satisfied: urllib3[secure,socks]~=1.26 in c:\\users\\haufa617\\anaconda3\\lib\\site-packages (from selenium) (1.26.7)\n",
      "Requirement already satisfied: sortedcontainers in c:\\users\\haufa617\\anaconda3\\lib\\site-packages (from trio~=0.17->selenium) (2.4.0)\n",
      "Requirement already satisfied: async-generator>=1.9 in c:\\users\\haufa617\\anaconda3\\lib\\site-packages (from trio~=0.17->selenium) (1.10)\n",
      "Requirement already satisfied: idna in c:\\users\\haufa617\\anaconda3\\lib\\site-packages (from trio~=0.17->selenium) (3.2)\n",
      "Requirement already satisfied: sniffio in c:\\users\\haufa617\\anaconda3\\lib\\site-packages (from trio~=0.17->selenium) (1.2.0)\n",
      "Requirement already satisfied: attrs>=19.2.0 in c:\\users\\haufa617\\anaconda3\\lib\\site-packages (from trio~=0.17->selenium) (21.2.0)\n",
      "Requirement already satisfied: outcome in c:\\users\\haufa617\\anaconda3\\lib\\site-packages (from trio~=0.17->selenium) (1.2.0)\n",
      "Requirement already satisfied: cffi>=1.14 in c:\\users\\haufa617\\anaconda3\\lib\\site-packages (from trio~=0.17->selenium) (1.14.6)\n",
      "Requirement already satisfied: pycparser in c:\\users\\haufa617\\anaconda3\\lib\\site-packages (from cffi>=1.14->trio~=0.17->selenium) (2.20)\n",
      "Requirement already satisfied: wsproto>=0.14 in c:\\users\\haufa617\\anaconda3\\lib\\site-packages (from trio-websocket~=0.9->selenium) (1.1.0)\n",
      "Requirement already satisfied: pyOpenSSL>=0.14 in c:\\users\\haufa617\\anaconda3\\lib\\site-packages (from urllib3[secure,socks]~=1.26->selenium) (21.0.0)\n",
      "Requirement already satisfied: cryptography>=1.3.4 in c:\\users\\haufa617\\anaconda3\\lib\\site-packages (from urllib3[secure,socks]~=1.26->selenium) (3.4.8)\n",
      "Requirement already satisfied: certifi in c:\\users\\haufa617\\anaconda3\\lib\\site-packages (from urllib3[secure,socks]~=1.26->selenium) (2021.10.8)\n",
      "Requirement already satisfied: PySocks!=1.5.7,<2.0,>=1.5.6 in c:\\users\\haufa617\\anaconda3\\lib\\site-packages (from urllib3[secure,socks]~=1.26->selenium) (1.7.1)\n",
      "Requirement already satisfied: six>=1.5.2 in c:\\users\\haufa617\\anaconda3\\lib\\site-packages (from pyOpenSSL>=0.14->urllib3[secure,socks]~=1.26->selenium) (1.16.0)\n",
      "Requirement already satisfied: h11<1,>=0.9.0 in c:\\users\\haufa617\\anaconda3\\lib\\site-packages (from wsproto>=0.14->trio-websocket~=0.9->selenium) (0.13.0)\n"
     ]
    }
   ],
   "source": [
    "#C:\\Users\\haufa617\\Downloads\\chromedriver_win32 (1)\n",
    "!pip install selenium"
   ]
  },
  {
   "cell_type": "code",
   "execution_count": 78,
   "id": "76ae8cf3",
   "metadata": {},
   "outputs": [],
   "source": [
    "# Assignment Data Scientist.\n",
    "# Lets import all the required libraries\n",
    "import selenium\n",
    "from selenium import webdriver\n",
    "import pandas as pd\n",
    "import warnings\n",
    "warnings.filterwarnings('ignore')\n"
   ]
  },
  {
   "cell_type": "code",
   "execution_count": 79,
   "id": "79b07723",
   "metadata": {},
   "outputs": [],
   "source": [
    "driver= webdriver.Chrome(r'C:\\Users\\haufa617\\Downloads\\chromedriver_win32 (1)\\chromedriver.exe')"
   ]
  },
  {
   "cell_type": "code",
   "execution_count": 81,
   "id": "d930a401",
   "metadata": {},
   "outputs": [],
   "source": [
    "url= 'https://www.naukri.com/'\n",
    "driver.get(url)"
   ]
  },
  {
   "cell_type": "code",
   "execution_count": 80,
   "id": "f87adcd8",
   "metadata": {},
   "outputs": [],
   "source": [
    "from selenium.webdriver.common.by import By"
   ]
  },
  {
   "cell_type": "code",
   "execution_count": 82,
   "id": "15fb6950",
   "metadata": {},
   "outputs": [
    {
     "data": {
      "text/plain": [
       "<selenium.webdriver.remote.webelement.WebElement (session=\"6850215a2aac8650533eb95ef868e635\", element=\"98b7b8d2-4101-4fb0-9cce-b7b4810b7edf\")>"
      ]
     },
     "execution_count": 82,
     "metadata": {},
     "output_type": "execute_result"
    }
   ],
   "source": [
    "# finding web element  for search s\n",
    "search_job = driver.find_element(By.CLASS_NAME,\"suggestor-input \")\n",
    "search_job"
   ]
  },
  {
   "cell_type": "code",
   "execution_count": 83,
   "id": "4009bf0b",
   "metadata": {},
   "outputs": [],
   "source": [
    "search_job.send_keys(\"Data Scientist\")"
   ]
  },
  {
   "cell_type": "code",
   "execution_count": 84,
   "id": "1985b453",
   "metadata": {},
   "outputs": [
    {
     "data": {
      "text/plain": [
       "<selenium.webdriver.remote.webelement.WebElement (session=\"6850215a2aac8650533eb95ef868e635\", element=\"f94e410e-5aa8-44a9-9dee-394d798a91cf\")>"
      ]
     },
     "execution_count": 84,
     "metadata": {},
     "output_type": "execute_result"
    }
   ],
   "source": [
    "# Finding web element for location\n",
    "job_location =driver.find_element(By.XPATH,'/html/body/div[1]/div[2]/div[3]/div/div/div[5]/div/div/div/input')\n",
    "job_location"
   ]
  },
  {
   "cell_type": "code",
   "execution_count": 85,
   "id": "84d81f77",
   "metadata": {},
   "outputs": [],
   "source": [
    "job_location.send_keys(\"Bangalore\")"
   ]
  },
  {
   "cell_type": "code",
   "execution_count": 86,
   "id": "a947806d",
   "metadata": {},
   "outputs": [
    {
     "data": {
      "text/plain": [
       "<selenium.webdriver.remote.webelement.WebElement (session=\"6850215a2aac8650533eb95ef868e635\", element=\"d5f092b3-8004-40e1-ad59-8e7e33b0cf39\")>"
      ]
     },
     "execution_count": 86,
     "metadata": {},
     "output_type": "execute_result"
    }
   ],
   "source": [
    "# Click using absolute Xpath function\n",
    "search_btn= driver.find_element(By.XPATH, \"/html/body/div[1]/div[2]/div[3]/div/div/div[6]\")\n",
    "search_btn\n"
   ]
  },
  {
   "cell_type": "code",
   "execution_count": 87,
   "id": "043df76b",
   "metadata": {},
   "outputs": [],
   "source": [
    "search_btn.click()"
   ]
  },
  {
   "cell_type": "code",
   "execution_count": 88,
   "id": "53232074",
   "metadata": {},
   "outputs": [
    {
     "data": {
      "text/plain": [
       "<selenium.webdriver.remote.webelement.WebElement (session=\"6850215a2aac8650533eb95ef868e635\", element=\"b7036d50-067e-413b-b132-f05d0184e776\")>"
      ]
     },
     "execution_count": 88,
     "metadata": {},
     "output_type": "execute_result"
    }
   ],
   "source": [
    "salary_check = driver.find_element(By.XPATH, \"/html/body/div[1]/div[3]/div[2]/section[1]/div[2]/div[5]/div[2]/div[1]/label/i\")\n",
    "salary_check"
   ]
  },
  {
   "cell_type": "code",
   "execution_count": 89,
   "id": "979562f3",
   "metadata": {},
   "outputs": [],
   "source": [
    "salary_check.click()"
   ]
  },
  {
   "cell_type": "code",
   "execution_count": 103,
   "id": "4be895e1",
   "metadata": {},
   "outputs": [],
   "source": [
    "# Lets extract all web elements having job titles\n",
    "title_tags = driver.find_elements(By.XPATH,'//a[@class=\"title fw500 ellipsis\"]')"
   ]
  },
  {
   "cell_type": "code",
   "execution_count": 104,
   "id": "c174ea0c",
   "metadata": {},
   "outputs": [
    {
     "data": {
      "text/plain": [
       "20"
      ]
     },
     "execution_count": 104,
     "metadata": {},
     "output_type": "execute_result"
    }
   ],
   "source": [
    "job_titles =[]\n",
    "\n",
    "for i in title_tags:\n",
    "    job_titles.append(i.text)\n",
    "len(job_titles)"
   ]
  },
  {
   "cell_type": "code",
   "execution_count": 105,
   "id": "a3bf3e3b",
   "metadata": {},
   "outputs": [
    {
     "data": {
      "text/plain": [
       "['Data Scientist',\n",
       " 'Data Scientist',\n",
       " 'Data Scientist',\n",
       " 'Data Scientist For Healthcare Product team',\n",
       " 'Data Scientist For Healthcare Product team',\n",
       " 'Research Analyst',\n",
       " 'Data Scientist',\n",
       " 'Hiring For Data Science Intern- DataTrained Education',\n",
       " 'Knowledge/Data Scientist',\n",
       " 'Data Scientist',\n",
       " 'Data Scientist',\n",
       " 'Data Scientist SME',\n",
       " 'Process Trainer',\n",
       " 'Datascience Architect_Bangalore',\n",
       " 'Datascience Architect_Bangalore',\n",
       " 'Research Associate - Data Science',\n",
       " 'Data Science',\n",
       " 'Data Science',\n",
       " 'Data Scientist',\n",
       " 'Hiring For Python Developer']"
      ]
     },
     "execution_count": 105,
     "metadata": {},
     "output_type": "execute_result"
    }
   ],
   "source": [
    "\n",
    "job_titles\n"
   ]
  },
  {
   "cell_type": "code",
   "execution_count": 106,
   "id": "2636cb6f",
   "metadata": {},
   "outputs": [],
   "source": [
    "# Extracting company names \n",
    "company_tag= driver.find_elements(By.XPATH,'//a[@class=\"subTitle ellipsis fleft\"]')"
   ]
  },
  {
   "cell_type": "code",
   "execution_count": 107,
   "id": "e671a00c",
   "metadata": {},
   "outputs": [
    {
     "data": {
      "text/plain": [
       "20"
      ]
     },
     "execution_count": 107,
     "metadata": {},
     "output_type": "execute_result"
    }
   ],
   "source": [
    "company_names =[]\n",
    "\n",
    "for i in company_tag:\n",
    "    company_names.append(i.text)\n",
    "len(company_names)"
   ]
  },
  {
   "cell_type": "code",
   "execution_count": 108,
   "id": "7eb5476b",
   "metadata": {},
   "outputs": [
    {
     "data": {
      "text/plain": [
       "['Genpact',\n",
       " 'Allegis Services India Pvt. Ltd.',\n",
       " 'Allegis Services India Pvt. Ltd.',\n",
       " '8KMiles Software Services',\n",
       " '8KMiles Software Services',\n",
       " 'Xsys Software Technologies',\n",
       " 'Eversana',\n",
       " 'DataTrained',\n",
       " 'BOLD Technology Systems',\n",
       " 'Mount Talent Consulting Private Limited',\n",
       " 'Mount Talent Consulting Private Limited',\n",
       " 'AMSI TECHNOLOGIES PVT LIMITED',\n",
       " 'IB Business Services',\n",
       " 'Symphoni HR Private Limited',\n",
       " 'Symphoni HR Private Limited',\n",
       " 'Recodeminds Pvt Ltd',\n",
       " 'Mount Talent Consulting Private Limited',\n",
       " 'Mount Talent Consulting Private Limited',\n",
       " 'cliqhr.com',\n",
       " 'Anblicks Solutions']"
      ]
     },
     "execution_count": 108,
     "metadata": {},
     "output_type": "execute_result"
    }
   ],
   "source": [
    "company_names"
   ]
  },
  {
   "cell_type": "code",
   "execution_count": 109,
   "id": "f2622dc8",
   "metadata": {},
   "outputs": [],
   "source": [
    "# Extracting experience\n",
    "exp_tag= driver.find_elements(By.XPATH,'//li[@class=\"fleft grey-text br2 placeHolderLi experience\"]')\n"
   ]
  },
  {
   "cell_type": "code",
   "execution_count": 110,
   "id": "2280c2c1",
   "metadata": {},
   "outputs": [
    {
     "data": {
      "text/plain": [
       "20"
      ]
     },
     "execution_count": 110,
     "metadata": {},
     "output_type": "execute_result"
    }
   ],
   "source": [
    "experience =[]\n",
    "\n",
    "for i in exp_tag:\n",
    "    experience.append(i.text)\n",
    "len(experience)"
   ]
  },
  {
   "cell_type": "code",
   "execution_count": 111,
   "id": "2766676b",
   "metadata": {},
   "outputs": [
    {
     "data": {
      "text/plain": [
       "['7-12 Yrs',\n",
       " '1-3 Yrs',\n",
       " '1-3 Yrs',\n",
       " '2-7 Yrs',\n",
       " '2-7 Yrs',\n",
       " '0-5 Yrs',\n",
       " '3-7 Yrs',\n",
       " '0-2 Yrs',\n",
       " '3-6 Yrs',\n",
       " '2-4 Yrs',\n",
       " '2-4 Yrs',\n",
       " '4-9 Yrs',\n",
       " '2-5 Yrs',\n",
       " '8-11 Yrs',\n",
       " '8-11 Yrs',\n",
       " '1-3 Yrs',\n",
       " '2-5 Yrs',\n",
       " '2-5 Yrs',\n",
       " '5-8 Yrs',\n",
       " '3-6 Yrs']"
      ]
     },
     "execution_count": 111,
     "metadata": {},
     "output_type": "execute_result"
    }
   ],
   "source": [
    "experience"
   ]
  },
  {
   "cell_type": "code",
   "execution_count": 112,
   "id": "4f0abdc2",
   "metadata": {},
   "outputs": [],
   "source": [
    "locn_tag= driver.find_elements(By.XPATH,'//li[@class=\"fleft grey-text br2 placeHolderLi location\"]')\n"
   ]
  },
  {
   "cell_type": "code",
   "execution_count": 113,
   "id": "0498b152",
   "metadata": {},
   "outputs": [
    {
     "data": {
      "text/plain": [
       "20"
      ]
     },
     "execution_count": 113,
     "metadata": {},
     "output_type": "execute_result"
    }
   ],
   "source": [
    "location =[]\n",
    "\n",
    "for i in locn_tag:\n",
    "    location.append(i.text)\n",
    "len(location)"
   ]
  },
  {
   "cell_type": "code",
   "execution_count": 114,
   "id": "2180a998",
   "metadata": {},
   "outputs": [
    {
     "data": {
      "text/plain": [
       "['Bangalore/Bengaluru',\n",
       " 'Bangalore/Bengaluru\\n(WFH during Covid)',\n",
       " 'Bangalore/Bengaluru\\n(WFH during Covid)',\n",
       " 'Chennai, Bangalore/Bengaluru, Delhi / NCR',\n",
       " 'Chennai, Bangalore/Bengaluru, Delhi / NCR',\n",
       " 'Bangalore/Bengaluru(Mathikere +11)',\n",
       " 'Pune(Koregaon Park), Bangalore/Bengaluru(Bellandur)',\n",
       " 'Gurgaon/Gurugram, Bangalore/Bengaluru, Delhi / NCR',\n",
       " 'Delhi / NCR',\n",
       " 'Pune, Bangalore/Bengaluru, Delhi / NCR',\n",
       " 'Pune, Bangalore/Bengaluru, Delhi / NCR',\n",
       " 'Chennai, Bangalore/Bengaluru\\n(WFH during Covid)',\n",
       " 'Tirunelveli, Chennai, Bangalore/Bengaluru(Vidyaranyapura), Vellore',\n",
       " 'Bangalore/Bengaluru',\n",
       " 'Bangalore/Bengaluru',\n",
       " 'Hyderabad/Secunderabad',\n",
       " 'Noida, Faridabad, Gurgaon/Gurugram, Bangalore/Bengaluru, Greater Noida, Delhi / NCR',\n",
       " 'Noida, Faridabad, Gurgaon/Gurugram, Bangalore/Bengaluru, Greater Noida, Delhi / NCR',\n",
       " 'Bangalore/Bengaluru',\n",
       " 'Hyderabad/Secunderabad, Ahmedabad']"
      ]
     },
     "execution_count": 114,
     "metadata": {},
     "output_type": "execute_result"
    }
   ],
   "source": [
    "location"
   ]
  },
  {
   "cell_type": "code",
   "execution_count": 115,
   "id": "1c1d7150",
   "metadata": {},
   "outputs": [
    {
     "data": {
      "text/html": [
       "<div>\n",
       "<style scoped>\n",
       "    .dataframe tbody tr th:only-of-type {\n",
       "        vertical-align: middle;\n",
       "    }\n",
       "\n",
       "    .dataframe tbody tr th {\n",
       "        vertical-align: top;\n",
       "    }\n",
       "\n",
       "    .dataframe thead th {\n",
       "        text-align: right;\n",
       "    }\n",
       "</style>\n",
       "<table border=\"1\" class=\"dataframe\">\n",
       "  <thead>\n",
       "    <tr style=\"text-align: right;\">\n",
       "      <th></th>\n",
       "      <th>Job Title</th>\n",
       "      <th>Company</th>\n",
       "      <th>Experience</th>\n",
       "      <th>Location</th>\n",
       "    </tr>\n",
       "  </thead>\n",
       "  <tbody>\n",
       "    <tr>\n",
       "      <th>0</th>\n",
       "      <td>Data Scientist</td>\n",
       "      <td>Genpact</td>\n",
       "      <td>7-12 Yrs</td>\n",
       "      <td>Bangalore/Bengaluru</td>\n",
       "    </tr>\n",
       "    <tr>\n",
       "      <th>1</th>\n",
       "      <td>Data Scientist</td>\n",
       "      <td>Allegis Services India Pvt. Ltd.</td>\n",
       "      <td>1-3 Yrs</td>\n",
       "      <td>Bangalore/Bengaluru\\n(WFH during Covid)</td>\n",
       "    </tr>\n",
       "    <tr>\n",
       "      <th>2</th>\n",
       "      <td>Data Scientist</td>\n",
       "      <td>Allegis Services India Pvt. Ltd.</td>\n",
       "      <td>1-3 Yrs</td>\n",
       "      <td>Bangalore/Bengaluru\\n(WFH during Covid)</td>\n",
       "    </tr>\n",
       "    <tr>\n",
       "      <th>3</th>\n",
       "      <td>Data Scientist For Healthcare Product team</td>\n",
       "      <td>8KMiles Software Services</td>\n",
       "      <td>2-7 Yrs</td>\n",
       "      <td>Chennai, Bangalore/Bengaluru, Delhi / NCR</td>\n",
       "    </tr>\n",
       "    <tr>\n",
       "      <th>4</th>\n",
       "      <td>Data Scientist For Healthcare Product team</td>\n",
       "      <td>8KMiles Software Services</td>\n",
       "      <td>2-7 Yrs</td>\n",
       "      <td>Chennai, Bangalore/Bengaluru, Delhi / NCR</td>\n",
       "    </tr>\n",
       "    <tr>\n",
       "      <th>5</th>\n",
       "      <td>Research Analyst</td>\n",
       "      <td>Xsys Software Technologies</td>\n",
       "      <td>0-5 Yrs</td>\n",
       "      <td>Bangalore/Bengaluru(Mathikere +11)</td>\n",
       "    </tr>\n",
       "    <tr>\n",
       "      <th>6</th>\n",
       "      <td>Data Scientist</td>\n",
       "      <td>Eversana</td>\n",
       "      <td>3-7 Yrs</td>\n",
       "      <td>Pune(Koregaon Park), Bangalore/Bengaluru(Bella...</td>\n",
       "    </tr>\n",
       "    <tr>\n",
       "      <th>7</th>\n",
       "      <td>Hiring For Data Science Intern- DataTrained Ed...</td>\n",
       "      <td>DataTrained</td>\n",
       "      <td>0-2 Yrs</td>\n",
       "      <td>Gurgaon/Gurugram, Bangalore/Bengaluru, Delhi /...</td>\n",
       "    </tr>\n",
       "    <tr>\n",
       "      <th>8</th>\n",
       "      <td>Knowledge/Data Scientist</td>\n",
       "      <td>BOLD Technology Systems</td>\n",
       "      <td>3-6 Yrs</td>\n",
       "      <td>Delhi / NCR</td>\n",
       "    </tr>\n",
       "    <tr>\n",
       "      <th>9</th>\n",
       "      <td>Data Scientist</td>\n",
       "      <td>Mount Talent Consulting Private Limited</td>\n",
       "      <td>2-4 Yrs</td>\n",
       "      <td>Pune, Bangalore/Bengaluru, Delhi / NCR</td>\n",
       "    </tr>\n",
       "    <tr>\n",
       "      <th>10</th>\n",
       "      <td>Data Scientist</td>\n",
       "      <td>Mount Talent Consulting Private Limited</td>\n",
       "      <td>2-4 Yrs</td>\n",
       "      <td>Pune, Bangalore/Bengaluru, Delhi / NCR</td>\n",
       "    </tr>\n",
       "    <tr>\n",
       "      <th>11</th>\n",
       "      <td>Data Scientist SME</td>\n",
       "      <td>AMSI TECHNOLOGIES PVT LIMITED</td>\n",
       "      <td>4-9 Yrs</td>\n",
       "      <td>Chennai, Bangalore/Bengaluru\\n(WFH during Covid)</td>\n",
       "    </tr>\n",
       "    <tr>\n",
       "      <th>12</th>\n",
       "      <td>Process Trainer</td>\n",
       "      <td>IB Business Services</td>\n",
       "      <td>2-5 Yrs</td>\n",
       "      <td>Tirunelveli, Chennai, Bangalore/Bengaluru(Vidy...</td>\n",
       "    </tr>\n",
       "    <tr>\n",
       "      <th>13</th>\n",
       "      <td>Datascience Architect_Bangalore</td>\n",
       "      <td>Symphoni HR Private Limited</td>\n",
       "      <td>8-11 Yrs</td>\n",
       "      <td>Bangalore/Bengaluru</td>\n",
       "    </tr>\n",
       "    <tr>\n",
       "      <th>14</th>\n",
       "      <td>Datascience Architect_Bangalore</td>\n",
       "      <td>Symphoni HR Private Limited</td>\n",
       "      <td>8-11 Yrs</td>\n",
       "      <td>Bangalore/Bengaluru</td>\n",
       "    </tr>\n",
       "    <tr>\n",
       "      <th>15</th>\n",
       "      <td>Research Associate - Data Science</td>\n",
       "      <td>Recodeminds Pvt Ltd</td>\n",
       "      <td>1-3 Yrs</td>\n",
       "      <td>Hyderabad/Secunderabad</td>\n",
       "    </tr>\n",
       "    <tr>\n",
       "      <th>16</th>\n",
       "      <td>Data Science</td>\n",
       "      <td>Mount Talent Consulting Private Limited</td>\n",
       "      <td>2-5 Yrs</td>\n",
       "      <td>Noida, Faridabad, Gurgaon/Gurugram, Bangalore/...</td>\n",
       "    </tr>\n",
       "    <tr>\n",
       "      <th>17</th>\n",
       "      <td>Data Science</td>\n",
       "      <td>Mount Talent Consulting Private Limited</td>\n",
       "      <td>2-5 Yrs</td>\n",
       "      <td>Noida, Faridabad, Gurgaon/Gurugram, Bangalore/...</td>\n",
       "    </tr>\n",
       "    <tr>\n",
       "      <th>18</th>\n",
       "      <td>Data Scientist</td>\n",
       "      <td>cliqhr.com</td>\n",
       "      <td>5-8 Yrs</td>\n",
       "      <td>Bangalore/Bengaluru</td>\n",
       "    </tr>\n",
       "    <tr>\n",
       "      <th>19</th>\n",
       "      <td>Hiring For Python Developer</td>\n",
       "      <td>Anblicks Solutions</td>\n",
       "      <td>3-6 Yrs</td>\n",
       "      <td>Hyderabad/Secunderabad, Ahmedabad</td>\n",
       "    </tr>\n",
       "  </tbody>\n",
       "</table>\n",
       "</div>"
      ],
      "text/plain": [
       "                                            Job Title  \\\n",
       "0                                      Data Scientist   \n",
       "1                                      Data Scientist   \n",
       "2                                      Data Scientist   \n",
       "3          Data Scientist For Healthcare Product team   \n",
       "4          Data Scientist For Healthcare Product team   \n",
       "5                                    Research Analyst   \n",
       "6                                      Data Scientist   \n",
       "7   Hiring For Data Science Intern- DataTrained Ed...   \n",
       "8                            Knowledge/Data Scientist   \n",
       "9                                      Data Scientist   \n",
       "10                                     Data Scientist   \n",
       "11                                 Data Scientist SME   \n",
       "12                                    Process Trainer   \n",
       "13                    Datascience Architect_Bangalore   \n",
       "14                    Datascience Architect_Bangalore   \n",
       "15                  Research Associate - Data Science   \n",
       "16                                       Data Science   \n",
       "17                                       Data Science   \n",
       "18                                     Data Scientist   \n",
       "19                        Hiring For Python Developer   \n",
       "\n",
       "                                    Company Experience  \\\n",
       "0                                   Genpact   7-12 Yrs   \n",
       "1          Allegis Services India Pvt. Ltd.    1-3 Yrs   \n",
       "2          Allegis Services India Pvt. Ltd.    1-3 Yrs   \n",
       "3                 8KMiles Software Services    2-7 Yrs   \n",
       "4                 8KMiles Software Services    2-7 Yrs   \n",
       "5                Xsys Software Technologies    0-5 Yrs   \n",
       "6                                  Eversana    3-7 Yrs   \n",
       "7                               DataTrained    0-2 Yrs   \n",
       "8                   BOLD Technology Systems    3-6 Yrs   \n",
       "9   Mount Talent Consulting Private Limited    2-4 Yrs   \n",
       "10  Mount Talent Consulting Private Limited    2-4 Yrs   \n",
       "11            AMSI TECHNOLOGIES PVT LIMITED    4-9 Yrs   \n",
       "12                     IB Business Services    2-5 Yrs   \n",
       "13              Symphoni HR Private Limited   8-11 Yrs   \n",
       "14              Symphoni HR Private Limited   8-11 Yrs   \n",
       "15                      Recodeminds Pvt Ltd    1-3 Yrs   \n",
       "16  Mount Talent Consulting Private Limited    2-5 Yrs   \n",
       "17  Mount Talent Consulting Private Limited    2-5 Yrs   \n",
       "18                               cliqhr.com    5-8 Yrs   \n",
       "19                       Anblicks Solutions    3-6 Yrs   \n",
       "\n",
       "                                             Location  \n",
       "0                                 Bangalore/Bengaluru  \n",
       "1             Bangalore/Bengaluru\\n(WFH during Covid)  \n",
       "2             Bangalore/Bengaluru\\n(WFH during Covid)  \n",
       "3           Chennai, Bangalore/Bengaluru, Delhi / NCR  \n",
       "4           Chennai, Bangalore/Bengaluru, Delhi / NCR  \n",
       "5                  Bangalore/Bengaluru(Mathikere +11)  \n",
       "6   Pune(Koregaon Park), Bangalore/Bengaluru(Bella...  \n",
       "7   Gurgaon/Gurugram, Bangalore/Bengaluru, Delhi /...  \n",
       "8                                         Delhi / NCR  \n",
       "9              Pune, Bangalore/Bengaluru, Delhi / NCR  \n",
       "10             Pune, Bangalore/Bengaluru, Delhi / NCR  \n",
       "11   Chennai, Bangalore/Bengaluru\\n(WFH during Covid)  \n",
       "12  Tirunelveli, Chennai, Bangalore/Bengaluru(Vidy...  \n",
       "13                                Bangalore/Bengaluru  \n",
       "14                                Bangalore/Bengaluru  \n",
       "15                             Hyderabad/Secunderabad  \n",
       "16  Noida, Faridabad, Gurgaon/Gurugram, Bangalore/...  \n",
       "17  Noida, Faridabad, Gurgaon/Gurugram, Bangalore/...  \n",
       "18                                Bangalore/Bengaluru  \n",
       "19                  Hyderabad/Secunderabad, Ahmedabad  "
      ]
     },
     "execution_count": 115,
     "metadata": {},
     "output_type": "execute_result"
    }
   ],
   "source": [
    "jobs= pd.DataFrame()\n",
    "jobs['Job Title']= job_titles\n",
    "jobs['Company']= company_names\n",
    "jobs['Experience']= experience\n",
    "jobs['Location']= location\n",
    "jobs"
   ]
  },
  {
   "cell_type": "code",
   "execution_count": 117,
   "id": "e8eace1b",
   "metadata": {},
   "outputs": [
    {
     "data": {
      "text/html": [
       "<div>\n",
       "<style scoped>\n",
       "    .dataframe tbody tr th:only-of-type {\n",
       "        vertical-align: middle;\n",
       "    }\n",
       "\n",
       "    .dataframe tbody tr th {\n",
       "        vertical-align: top;\n",
       "    }\n",
       "\n",
       "    .dataframe thead th {\n",
       "        text-align: right;\n",
       "    }\n",
       "</style>\n",
       "<table border=\"1\" class=\"dataframe\">\n",
       "  <thead>\n",
       "    <tr style=\"text-align: right;\">\n",
       "      <th></th>\n",
       "      <th>Job Title</th>\n",
       "      <th>Company</th>\n",
       "      <th>Experience</th>\n",
       "      <th>Location</th>\n",
       "    </tr>\n",
       "  </thead>\n",
       "  <tbody>\n",
       "    <tr>\n",
       "      <th>0</th>\n",
       "      <td>Data Scientist</td>\n",
       "      <td>Genpact</td>\n",
       "      <td>7-12 Yrs</td>\n",
       "      <td>Bangalore/Bengaluru</td>\n",
       "    </tr>\n",
       "    <tr>\n",
       "      <th>1</th>\n",
       "      <td>Data Scientist</td>\n",
       "      <td>Allegis Services India Pvt. Ltd.</td>\n",
       "      <td>1-3 Yrs</td>\n",
       "      <td>Bangalore/Bengaluru\\n(WFH during Covid)</td>\n",
       "    </tr>\n",
       "    <tr>\n",
       "      <th>2</th>\n",
       "      <td>Data Scientist</td>\n",
       "      <td>Allegis Services India Pvt. Ltd.</td>\n",
       "      <td>1-3 Yrs</td>\n",
       "      <td>Bangalore/Bengaluru\\n(WFH during Covid)</td>\n",
       "    </tr>\n",
       "    <tr>\n",
       "      <th>3</th>\n",
       "      <td>Data Scientist For Healthcare Product team</td>\n",
       "      <td>8KMiles Software Services</td>\n",
       "      <td>2-7 Yrs</td>\n",
       "      <td>Chennai, Bangalore/Bengaluru, Delhi / NCR</td>\n",
       "    </tr>\n",
       "    <tr>\n",
       "      <th>4</th>\n",
       "      <td>Data Scientist For Healthcare Product team</td>\n",
       "      <td>8KMiles Software Services</td>\n",
       "      <td>2-7 Yrs</td>\n",
       "      <td>Chennai, Bangalore/Bengaluru, Delhi / NCR</td>\n",
       "    </tr>\n",
       "    <tr>\n",
       "      <th>5</th>\n",
       "      <td>Research Analyst</td>\n",
       "      <td>Xsys Software Technologies</td>\n",
       "      <td>0-5 Yrs</td>\n",
       "      <td>Bangalore/Bengaluru(Mathikere +11)</td>\n",
       "    </tr>\n",
       "    <tr>\n",
       "      <th>6</th>\n",
       "      <td>Data Scientist</td>\n",
       "      <td>Eversana</td>\n",
       "      <td>3-7 Yrs</td>\n",
       "      <td>Pune(Koregaon Park), Bangalore/Bengaluru(Bella...</td>\n",
       "    </tr>\n",
       "    <tr>\n",
       "      <th>7</th>\n",
       "      <td>Hiring For Data Science Intern- DataTrained Ed...</td>\n",
       "      <td>DataTrained</td>\n",
       "      <td>0-2 Yrs</td>\n",
       "      <td>Gurgaon/Gurugram, Bangalore/Bengaluru, Delhi /...</td>\n",
       "    </tr>\n",
       "    <tr>\n",
       "      <th>8</th>\n",
       "      <td>Knowledge/Data Scientist</td>\n",
       "      <td>BOLD Technology Systems</td>\n",
       "      <td>3-6 Yrs</td>\n",
       "      <td>Delhi / NCR</td>\n",
       "    </tr>\n",
       "    <tr>\n",
       "      <th>9</th>\n",
       "      <td>Data Scientist</td>\n",
       "      <td>Mount Talent Consulting Private Limited</td>\n",
       "      <td>2-4 Yrs</td>\n",
       "      <td>Pune, Bangalore/Bengaluru, Delhi / NCR</td>\n",
       "    </tr>\n",
       "  </tbody>\n",
       "</table>\n",
       "</div>"
      ],
      "text/plain": [
       "                                           Job Title  \\\n",
       "0                                     Data Scientist   \n",
       "1                                     Data Scientist   \n",
       "2                                     Data Scientist   \n",
       "3         Data Scientist For Healthcare Product team   \n",
       "4         Data Scientist For Healthcare Product team   \n",
       "5                                   Research Analyst   \n",
       "6                                     Data Scientist   \n",
       "7  Hiring For Data Science Intern- DataTrained Ed...   \n",
       "8                           Knowledge/Data Scientist   \n",
       "9                                     Data Scientist   \n",
       "\n",
       "                                   Company Experience  \\\n",
       "0                                  Genpact   7-12 Yrs   \n",
       "1         Allegis Services India Pvt. Ltd.    1-3 Yrs   \n",
       "2         Allegis Services India Pvt. Ltd.    1-3 Yrs   \n",
       "3                8KMiles Software Services    2-7 Yrs   \n",
       "4                8KMiles Software Services    2-7 Yrs   \n",
       "5               Xsys Software Technologies    0-5 Yrs   \n",
       "6                                 Eversana    3-7 Yrs   \n",
       "7                              DataTrained    0-2 Yrs   \n",
       "8                  BOLD Technology Systems    3-6 Yrs   \n",
       "9  Mount Talent Consulting Private Limited    2-4 Yrs   \n",
       "\n",
       "                                            Location  \n",
       "0                                Bangalore/Bengaluru  \n",
       "1            Bangalore/Bengaluru\\n(WFH during Covid)  \n",
       "2            Bangalore/Bengaluru\\n(WFH during Covid)  \n",
       "3          Chennai, Bangalore/Bengaluru, Delhi / NCR  \n",
       "4          Chennai, Bangalore/Bengaluru, Delhi / NCR  \n",
       "5                 Bangalore/Bengaluru(Mathikere +11)  \n",
       "6  Pune(Koregaon Park), Bangalore/Bengaluru(Bella...  \n",
       "7  Gurgaon/Gurugram, Bangalore/Bengaluru, Delhi /...  \n",
       "8                                        Delhi / NCR  \n",
       "9             Pune, Bangalore/Bengaluru, Delhi / NCR  "
      ]
     },
     "execution_count": 117,
     "metadata": {},
     "output_type": "execute_result"
    }
   ],
   "source": [
    "jobs[0:10]"
   ]
  },
  {
   "cell_type": "code",
   "execution_count": 1,
   "id": "d23e94cc",
   "metadata": {},
   "outputs": [],
   "source": [
    "# Assignment Data Analyst Web Scrapping \n",
    "# Lets import all the required libraries\n",
    "import selenium\n",
    "from selenium import webdriver\n",
    "import pandas as pd\n",
    "import warnings\n",
    "warnings.filterwarnings('ignore')\n"
   ]
  },
  {
   "cell_type": "code",
   "execution_count": 2,
   "id": "8d6b16cb",
   "metadata": {},
   "outputs": [],
   "source": [
    "driver= webdriver.Chrome(r'C:\\Users\\haufa617\\Downloads\\chromedriver_win32 (1)\\chromedriver.exe')"
   ]
  },
  {
   "cell_type": "code",
   "execution_count": 3,
   "id": "a5403d05",
   "metadata": {},
   "outputs": [],
   "source": [
    "from selenium.webdriver.common.by import By"
   ]
  },
  {
   "cell_type": "code",
   "execution_count": 4,
   "id": "2ba96303",
   "metadata": {},
   "outputs": [],
   "source": [
    "url= 'https://www.naukri.com/'\n",
    "driver.get(url)"
   ]
  },
  {
   "cell_type": "code",
   "execution_count": 5,
   "id": "94f1553c",
   "metadata": {},
   "outputs": [
    {
     "data": {
      "text/plain": [
       "<selenium.webdriver.remote.webelement.WebElement (session=\"5c8a34d1cefbac157b4b943e9f2a59dc\", element=\"383e45ef-1ad1-468d-adea-d97aa2f713f5\")>"
      ]
     },
     "execution_count": 5,
     "metadata": {},
     "output_type": "execute_result"
    }
   ],
   "source": [
    "search_job = driver.find_element(By.CLASS_NAME,\"suggestor-input \")\n",
    "search_job"
   ]
  },
  {
   "cell_type": "code",
   "execution_count": 6,
   "id": "4e705d9d",
   "metadata": {},
   "outputs": [],
   "source": [
    "search_job.send_keys(\"Data Analyst\")"
   ]
  },
  {
   "cell_type": "code",
   "execution_count": 7,
   "id": "4d78d9ed",
   "metadata": {},
   "outputs": [
    {
     "data": {
      "text/plain": [
       "<selenium.webdriver.remote.webelement.WebElement (session=\"5c8a34d1cefbac157b4b943e9f2a59dc\", element=\"4779d613-f21c-446f-8444-de1b67ea6efe\")>"
      ]
     },
     "execution_count": 7,
     "metadata": {},
     "output_type": "execute_result"
    }
   ],
   "source": [
    "job_location =driver.find_element(By.XPATH,'/html/body/div[1]/div[2]/div[3]/div/div/div[5]/div/div/div/input')\n",
    "job_location"
   ]
  },
  {
   "cell_type": "code",
   "execution_count": 8,
   "id": "5c06c5e4",
   "metadata": {},
   "outputs": [],
   "source": [
    "job_location.send_keys(\"Bangalore\")"
   ]
  },
  {
   "cell_type": "code",
   "execution_count": 9,
   "id": "e3877fd8",
   "metadata": {},
   "outputs": [
    {
     "data": {
      "text/plain": [
       "<selenium.webdriver.remote.webelement.WebElement (session=\"5c8a34d1cefbac157b4b943e9f2a59dc\", element=\"d6bf9f55-eb00-4484-a72e-d3ced9489280\")>"
      ]
     },
     "execution_count": 9,
     "metadata": {},
     "output_type": "execute_result"
    }
   ],
   "source": [
    "search_btn= driver.find_element(By.XPATH, \"/html/body/div[1]/div[2]/div[3]/div/div/div[6]\")\n",
    "search_btn\n"
   ]
  },
  {
   "cell_type": "code",
   "execution_count": 10,
   "id": "f8eabb0a",
   "metadata": {},
   "outputs": [],
   "source": [
    "search_btn.click()"
   ]
  },
  {
   "cell_type": "code",
   "execution_count": 12,
   "id": "3d9a8ccc",
   "metadata": {},
   "outputs": [
    {
     "data": {
      "text/plain": [
       "[<selenium.webdriver.remote.webelement.WebElement (session=\"5c8a34d1cefbac157b4b943e9f2a59dc\", element=\"0ebb2d34-a2a2-46ed-88c4-954e80f7f7fe\")>,\n",
       " <selenium.webdriver.remote.webelement.WebElement (session=\"5c8a34d1cefbac157b4b943e9f2a59dc\", element=\"0bf8899e-9438-4e77-b084-08d4714da498\")>,\n",
       " <selenium.webdriver.remote.webelement.WebElement (session=\"5c8a34d1cefbac157b4b943e9f2a59dc\", element=\"568169e5-e019-4ed7-b08b-7c2e4e7c931d\")>,\n",
       " <selenium.webdriver.remote.webelement.WebElement (session=\"5c8a34d1cefbac157b4b943e9f2a59dc\", element=\"99b902a5-6e04-48f1-9f67-1503949946f5\")>,\n",
       " <selenium.webdriver.remote.webelement.WebElement (session=\"5c8a34d1cefbac157b4b943e9f2a59dc\", element=\"fc108bc6-99c5-42fc-bfc4-538c4fca871a\")>,\n",
       " <selenium.webdriver.remote.webelement.WebElement (session=\"5c8a34d1cefbac157b4b943e9f2a59dc\", element=\"5e8440a2-24e1-423e-bf93-52cd447487ce\")>,\n",
       " <selenium.webdriver.remote.webelement.WebElement (session=\"5c8a34d1cefbac157b4b943e9f2a59dc\", element=\"a0003a6c-6693-4635-b3c1-2d3a2b7797a4\")>,\n",
       " <selenium.webdriver.remote.webelement.WebElement (session=\"5c8a34d1cefbac157b4b943e9f2a59dc\", element=\"195c4e4c-11ea-4d2e-b1e8-a1e8e0869067\")>,\n",
       " <selenium.webdriver.remote.webelement.WebElement (session=\"5c8a34d1cefbac157b4b943e9f2a59dc\", element=\"7bbbd18d-e59e-4c25-878a-36c4b8e8fff8\")>,\n",
       " <selenium.webdriver.remote.webelement.WebElement (session=\"5c8a34d1cefbac157b4b943e9f2a59dc\", element=\"5064d220-01a8-4114-beca-80c717a8b69d\")>,\n",
       " <selenium.webdriver.remote.webelement.WebElement (session=\"5c8a34d1cefbac157b4b943e9f2a59dc\", element=\"7ca3ea71-b5ea-4ea6-9283-00b0c658989a\")>,\n",
       " <selenium.webdriver.remote.webelement.WebElement (session=\"5c8a34d1cefbac157b4b943e9f2a59dc\", element=\"debd08d7-65f7-4746-8240-8e9cce08f2fb\")>,\n",
       " <selenium.webdriver.remote.webelement.WebElement (session=\"5c8a34d1cefbac157b4b943e9f2a59dc\", element=\"778d2de7-3698-4359-8177-e5ae0328000c\")>,\n",
       " <selenium.webdriver.remote.webelement.WebElement (session=\"5c8a34d1cefbac157b4b943e9f2a59dc\", element=\"f0005c37-51e4-4c60-85ae-59e23fea6b37\")>,\n",
       " <selenium.webdriver.remote.webelement.WebElement (session=\"5c8a34d1cefbac157b4b943e9f2a59dc\", element=\"8301059e-426d-4203-8bd5-747b2f30fe24\")>,\n",
       " <selenium.webdriver.remote.webelement.WebElement (session=\"5c8a34d1cefbac157b4b943e9f2a59dc\", element=\"dd0b242f-efef-4430-9abf-ba49f492a6fe\")>,\n",
       " <selenium.webdriver.remote.webelement.WebElement (session=\"5c8a34d1cefbac157b4b943e9f2a59dc\", element=\"935f4db0-e031-4fc1-abe8-01a2c1455a06\")>,\n",
       " <selenium.webdriver.remote.webelement.WebElement (session=\"5c8a34d1cefbac157b4b943e9f2a59dc\", element=\"ddb19a52-d8de-45ac-b9bc-529522158771\")>,\n",
       " <selenium.webdriver.remote.webelement.WebElement (session=\"5c8a34d1cefbac157b4b943e9f2a59dc\", element=\"d86e3fce-7521-4766-9f8b-f5c899ab649c\")>,\n",
       " <selenium.webdriver.remote.webelement.WebElement (session=\"5c8a34d1cefbac157b4b943e9f2a59dc\", element=\"d00256f3-46d3-4bab-bdbb-3b0ca6e5b1dc\")>]"
      ]
     },
     "execution_count": 12,
     "metadata": {},
     "output_type": "execute_result"
    }
   ],
   "source": [
    "title_tag = driver.find_elements(By.XPATH,'//a[@class=\"title fw500 ellipsis\"]')\n",
    "title_tag"
   ]
  },
  {
   "cell_type": "code",
   "execution_count": 13,
   "id": "4d61d187",
   "metadata": {},
   "outputs": [
    {
     "data": {
      "text/plain": [
       "20"
      ]
     },
     "execution_count": 13,
     "metadata": {},
     "output_type": "execute_result"
    }
   ],
   "source": [
    "job_titles =[]\n",
    "\n",
    "for i in title_tag:\n",
    "    job_titles.append(i.text)\n",
    "len(job_titles)"
   ]
  },
  {
   "cell_type": "code",
   "execution_count": 14,
   "id": "d925ad1a",
   "metadata": {},
   "outputs": [
    {
     "data": {
      "text/plain": [
       "['Associate - Data Analyst',\n",
       " 'Sr.Business Data Analyst',\n",
       " 'Job opportunity For Data Analyst at Trellance - India',\n",
       " 'Senior Data Analyst',\n",
       " 'Master Data Management Business Analyst',\n",
       " 'Sr Data Analyst',\n",
       " 'Hiring For Data Analyst',\n",
       " 'Data Analyst',\n",
       " 'Associate Data Analyst',\n",
       " 'Associate Data Analyst',\n",
       " 'Data Analyst/Senior Data Analyst',\n",
       " 'Senior Data Analysis Analyst',\n",
       " 'Data Analyst - Python/Artificial Intelligence',\n",
       " 'Performance Data Analyst',\n",
       " 'Happay - Data Analyst',\n",
       " 'Data Analyst',\n",
       " 'Data Analyst - CRM Platform',\n",
       " 'Financial Data Analyst - FIG',\n",
       " 'Lead Financial Data Analyst',\n",
       " 'Financial Data Analyst - FIG']"
      ]
     },
     "execution_count": 14,
     "metadata": {},
     "output_type": "execute_result"
    }
   ],
   "source": [
    "job_titles"
   ]
  },
  {
   "cell_type": "code",
   "execution_count": 15,
   "id": "7f89312a",
   "metadata": {},
   "outputs": [],
   "source": [
    "locn_tag= driver.find_elements(By.XPATH,'//li[@class=\"fleft grey-text br2 placeHolderLi location\"]')"
   ]
  },
  {
   "cell_type": "code",
   "execution_count": 16,
   "id": "46dcd393",
   "metadata": {},
   "outputs": [
    {
     "data": {
      "text/plain": [
       "20"
      ]
     },
     "execution_count": 16,
     "metadata": {},
     "output_type": "execute_result"
    }
   ],
   "source": [
    "location =[]\n",
    "\n",
    "for i in locn_tag:\n",
    "    location.append(i.text)\n",
    "len(location)"
   ]
  },
  {
   "cell_type": "code",
   "execution_count": 17,
   "id": "19d992b3",
   "metadata": {},
   "outputs": [
    {
     "data": {
      "text/plain": [
       "['Bangalore/Bengaluru',\n",
       " 'Bangalore/Bengaluru, karnataka\\n(WFH during Covid)',\n",
       " 'Bangalore/Bengaluru, Ahmedabad',\n",
       " 'Bangalore/Bengaluru(Old Madras Road)',\n",
       " 'Bangalore/Bengaluru',\n",
       " 'Bangalore/Bengaluru',\n",
       " 'Bangalore/Bengaluru',\n",
       " 'Bangalore/Bengaluru, Noida, Hyderabad/Secunderabad, Gurgaon/Gurugram, Chennai, Mumbai (All Areas), Pune',\n",
       " 'Bangalore/Bengaluru',\n",
       " 'Bangalore/Bengaluru',\n",
       " 'Bangalore/Bengaluru',\n",
       " 'Bangalore/Bengaluru, Pune, Chennai',\n",
       " 'Bangalore/Bengaluru, Kolkata, Mumbai, Hyderabad/Secunderabad, Pune, Ahmedabad',\n",
       " 'Bangalore/Bengaluru',\n",
       " 'Bangalore/Bengaluru',\n",
       " 'Bangalore/Bengaluru, Kolkata, New Delhi, Hyderabad/Secunderabad, Chennai, Mumbai (All Areas)',\n",
       " 'Bangalore/Bengaluru, Mumbai, Hyderabad/Secunderabad, Pune, Chennai, Ahmedabad',\n",
       " 'Bangalore/Bengaluru',\n",
       " 'Bangalore/Bengaluru',\n",
       " 'Bangalore/Bengaluru']"
      ]
     },
     "execution_count": 17,
     "metadata": {},
     "output_type": "execute_result"
    }
   ],
   "source": [
    "location"
   ]
  },
  {
   "cell_type": "code",
   "execution_count": 18,
   "id": "16a14551",
   "metadata": {},
   "outputs": [
    {
     "data": {
      "text/html": [
       "<div>\n",
       "<style scoped>\n",
       "    .dataframe tbody tr th:only-of-type {\n",
       "        vertical-align: middle;\n",
       "    }\n",
       "\n",
       "    .dataframe tbody tr th {\n",
       "        vertical-align: top;\n",
       "    }\n",
       "\n",
       "    .dataframe thead th {\n",
       "        text-align: right;\n",
       "    }\n",
       "</style>\n",
       "<table border=\"1\" class=\"dataframe\">\n",
       "  <thead>\n",
       "    <tr style=\"text-align: right;\">\n",
       "      <th></th>\n",
       "      <th>Job Title</th>\n",
       "      <th>Location</th>\n",
       "    </tr>\n",
       "  </thead>\n",
       "  <tbody>\n",
       "    <tr>\n",
       "      <th>0</th>\n",
       "      <td>Associate - Data Analyst</td>\n",
       "      <td>Bangalore/Bengaluru</td>\n",
       "    </tr>\n",
       "    <tr>\n",
       "      <th>1</th>\n",
       "      <td>Sr.Business Data Analyst</td>\n",
       "      <td>Bangalore/Bengaluru, karnataka\\n(WFH during Co...</td>\n",
       "    </tr>\n",
       "    <tr>\n",
       "      <th>2</th>\n",
       "      <td>Job opportunity For Data Analyst at Trellance ...</td>\n",
       "      <td>Bangalore/Bengaluru, Ahmedabad</td>\n",
       "    </tr>\n",
       "    <tr>\n",
       "      <th>3</th>\n",
       "      <td>Senior Data Analyst</td>\n",
       "      <td>Bangalore/Bengaluru(Old Madras Road)</td>\n",
       "    </tr>\n",
       "    <tr>\n",
       "      <th>4</th>\n",
       "      <td>Master Data Management Business Analyst</td>\n",
       "      <td>Bangalore/Bengaluru</td>\n",
       "    </tr>\n",
       "    <tr>\n",
       "      <th>5</th>\n",
       "      <td>Sr Data Analyst</td>\n",
       "      <td>Bangalore/Bengaluru</td>\n",
       "    </tr>\n",
       "    <tr>\n",
       "      <th>6</th>\n",
       "      <td>Hiring For Data Analyst</td>\n",
       "      <td>Bangalore/Bengaluru</td>\n",
       "    </tr>\n",
       "    <tr>\n",
       "      <th>7</th>\n",
       "      <td>Data Analyst</td>\n",
       "      <td>Bangalore/Bengaluru, Noida, Hyderabad/Secunder...</td>\n",
       "    </tr>\n",
       "    <tr>\n",
       "      <th>8</th>\n",
       "      <td>Associate Data Analyst</td>\n",
       "      <td>Bangalore/Bengaluru</td>\n",
       "    </tr>\n",
       "    <tr>\n",
       "      <th>9</th>\n",
       "      <td>Associate Data Analyst</td>\n",
       "      <td>Bangalore/Bengaluru</td>\n",
       "    </tr>\n",
       "    <tr>\n",
       "      <th>10</th>\n",
       "      <td>Data Analyst/Senior Data Analyst</td>\n",
       "      <td>Bangalore/Bengaluru</td>\n",
       "    </tr>\n",
       "    <tr>\n",
       "      <th>11</th>\n",
       "      <td>Senior Data Analysis Analyst</td>\n",
       "      <td>Bangalore/Bengaluru, Pune, Chennai</td>\n",
       "    </tr>\n",
       "    <tr>\n",
       "      <th>12</th>\n",
       "      <td>Data Analyst - Python/Artificial Intelligence</td>\n",
       "      <td>Bangalore/Bengaluru, Kolkata, Mumbai, Hyderaba...</td>\n",
       "    </tr>\n",
       "    <tr>\n",
       "      <th>13</th>\n",
       "      <td>Performance Data Analyst</td>\n",
       "      <td>Bangalore/Bengaluru</td>\n",
       "    </tr>\n",
       "    <tr>\n",
       "      <th>14</th>\n",
       "      <td>Happay - Data Analyst</td>\n",
       "      <td>Bangalore/Bengaluru</td>\n",
       "    </tr>\n",
       "    <tr>\n",
       "      <th>15</th>\n",
       "      <td>Data Analyst</td>\n",
       "      <td>Bangalore/Bengaluru, Kolkata, New Delhi, Hyder...</td>\n",
       "    </tr>\n",
       "    <tr>\n",
       "      <th>16</th>\n",
       "      <td>Data Analyst - CRM Platform</td>\n",
       "      <td>Bangalore/Bengaluru, Mumbai, Hyderabad/Secunde...</td>\n",
       "    </tr>\n",
       "    <tr>\n",
       "      <th>17</th>\n",
       "      <td>Financial Data Analyst - FIG</td>\n",
       "      <td>Bangalore/Bengaluru</td>\n",
       "    </tr>\n",
       "    <tr>\n",
       "      <th>18</th>\n",
       "      <td>Lead Financial Data Analyst</td>\n",
       "      <td>Bangalore/Bengaluru</td>\n",
       "    </tr>\n",
       "    <tr>\n",
       "      <th>19</th>\n",
       "      <td>Financial Data Analyst - FIG</td>\n",
       "      <td>Bangalore/Bengaluru</td>\n",
       "    </tr>\n",
       "  </tbody>\n",
       "</table>\n",
       "</div>"
      ],
      "text/plain": [
       "                                            Job Title  \\\n",
       "0                            Associate - Data Analyst   \n",
       "1                            Sr.Business Data Analyst   \n",
       "2   Job opportunity For Data Analyst at Trellance ...   \n",
       "3                                 Senior Data Analyst   \n",
       "4             Master Data Management Business Analyst   \n",
       "5                                     Sr Data Analyst   \n",
       "6                             Hiring For Data Analyst   \n",
       "7                                        Data Analyst   \n",
       "8                              Associate Data Analyst   \n",
       "9                              Associate Data Analyst   \n",
       "10                   Data Analyst/Senior Data Analyst   \n",
       "11                       Senior Data Analysis Analyst   \n",
       "12      Data Analyst - Python/Artificial Intelligence   \n",
       "13                           Performance Data Analyst   \n",
       "14                              Happay - Data Analyst   \n",
       "15                                       Data Analyst   \n",
       "16                        Data Analyst - CRM Platform   \n",
       "17                       Financial Data Analyst - FIG   \n",
       "18                        Lead Financial Data Analyst   \n",
       "19                       Financial Data Analyst - FIG   \n",
       "\n",
       "                                             Location  \n",
       "0                                 Bangalore/Bengaluru  \n",
       "1   Bangalore/Bengaluru, karnataka\\n(WFH during Co...  \n",
       "2                      Bangalore/Bengaluru, Ahmedabad  \n",
       "3                Bangalore/Bengaluru(Old Madras Road)  \n",
       "4                                 Bangalore/Bengaluru  \n",
       "5                                 Bangalore/Bengaluru  \n",
       "6                                 Bangalore/Bengaluru  \n",
       "7   Bangalore/Bengaluru, Noida, Hyderabad/Secunder...  \n",
       "8                                 Bangalore/Bengaluru  \n",
       "9                                 Bangalore/Bengaluru  \n",
       "10                                Bangalore/Bengaluru  \n",
       "11                 Bangalore/Bengaluru, Pune, Chennai  \n",
       "12  Bangalore/Bengaluru, Kolkata, Mumbai, Hyderaba...  \n",
       "13                                Bangalore/Bengaluru  \n",
       "14                                Bangalore/Bengaluru  \n",
       "15  Bangalore/Bengaluru, Kolkata, New Delhi, Hyder...  \n",
       "16  Bangalore/Bengaluru, Mumbai, Hyderabad/Secunde...  \n",
       "17                                Bangalore/Bengaluru  \n",
       "18                                Bangalore/Bengaluru  \n",
       "19                                Bangalore/Bengaluru  "
      ]
     },
     "execution_count": 18,
     "metadata": {},
     "output_type": "execute_result"
    }
   ],
   "source": [
    "jobs= pd.DataFrame()\n",
    "jobs['Job Title']= job_titles\n",
    "jobs['Location']= location\n",
    "jobs"
   ]
  },
  {
   "cell_type": "code",
   "execution_count": 19,
   "id": "dce16797",
   "metadata": {},
   "outputs": [
    {
     "data": {
      "text/html": [
       "<div>\n",
       "<style scoped>\n",
       "    .dataframe tbody tr th:only-of-type {\n",
       "        vertical-align: middle;\n",
       "    }\n",
       "\n",
       "    .dataframe tbody tr th {\n",
       "        vertical-align: top;\n",
       "    }\n",
       "\n",
       "    .dataframe thead th {\n",
       "        text-align: right;\n",
       "    }\n",
       "</style>\n",
       "<table border=\"1\" class=\"dataframe\">\n",
       "  <thead>\n",
       "    <tr style=\"text-align: right;\">\n",
       "      <th></th>\n",
       "      <th>Job Title</th>\n",
       "      <th>Location</th>\n",
       "    </tr>\n",
       "  </thead>\n",
       "  <tbody>\n",
       "    <tr>\n",
       "      <th>0</th>\n",
       "      <td>Associate - Data Analyst</td>\n",
       "      <td>Bangalore/Bengaluru</td>\n",
       "    </tr>\n",
       "    <tr>\n",
       "      <th>1</th>\n",
       "      <td>Sr.Business Data Analyst</td>\n",
       "      <td>Bangalore/Bengaluru, karnataka\\n(WFH during Co...</td>\n",
       "    </tr>\n",
       "    <tr>\n",
       "      <th>2</th>\n",
       "      <td>Job opportunity For Data Analyst at Trellance ...</td>\n",
       "      <td>Bangalore/Bengaluru, Ahmedabad</td>\n",
       "    </tr>\n",
       "    <tr>\n",
       "      <th>3</th>\n",
       "      <td>Senior Data Analyst</td>\n",
       "      <td>Bangalore/Bengaluru(Old Madras Road)</td>\n",
       "    </tr>\n",
       "    <tr>\n",
       "      <th>4</th>\n",
       "      <td>Master Data Management Business Analyst</td>\n",
       "      <td>Bangalore/Bengaluru</td>\n",
       "    </tr>\n",
       "    <tr>\n",
       "      <th>5</th>\n",
       "      <td>Sr Data Analyst</td>\n",
       "      <td>Bangalore/Bengaluru</td>\n",
       "    </tr>\n",
       "    <tr>\n",
       "      <th>6</th>\n",
       "      <td>Hiring For Data Analyst</td>\n",
       "      <td>Bangalore/Bengaluru</td>\n",
       "    </tr>\n",
       "    <tr>\n",
       "      <th>7</th>\n",
       "      <td>Data Analyst</td>\n",
       "      <td>Bangalore/Bengaluru, Noida, Hyderabad/Secunder...</td>\n",
       "    </tr>\n",
       "    <tr>\n",
       "      <th>8</th>\n",
       "      <td>Associate Data Analyst</td>\n",
       "      <td>Bangalore/Bengaluru</td>\n",
       "    </tr>\n",
       "    <tr>\n",
       "      <th>9</th>\n",
       "      <td>Associate Data Analyst</td>\n",
       "      <td>Bangalore/Bengaluru</td>\n",
       "    </tr>\n",
       "  </tbody>\n",
       "</table>\n",
       "</div>"
      ],
      "text/plain": [
       "                                           Job Title  \\\n",
       "0                           Associate - Data Analyst   \n",
       "1                           Sr.Business Data Analyst   \n",
       "2  Job opportunity For Data Analyst at Trellance ...   \n",
       "3                                Senior Data Analyst   \n",
       "4            Master Data Management Business Analyst   \n",
       "5                                    Sr Data Analyst   \n",
       "6                            Hiring For Data Analyst   \n",
       "7                                       Data Analyst   \n",
       "8                             Associate Data Analyst   \n",
       "9                             Associate Data Analyst   \n",
       "\n",
       "                                            Location  \n",
       "0                                Bangalore/Bengaluru  \n",
       "1  Bangalore/Bengaluru, karnataka\\n(WFH during Co...  \n",
       "2                     Bangalore/Bengaluru, Ahmedabad  \n",
       "3               Bangalore/Bengaluru(Old Madras Road)  \n",
       "4                                Bangalore/Bengaluru  \n",
       "5                                Bangalore/Bengaluru  \n",
       "6                                Bangalore/Bengaluru  \n",
       "7  Bangalore/Bengaluru, Noida, Hyderabad/Secunder...  \n",
       "8                                Bangalore/Bengaluru  \n",
       "9                                Bangalore/Bengaluru  "
      ]
     },
     "execution_count": 19,
     "metadata": {},
     "output_type": "execute_result"
    }
   ],
   "source": [
    "jobs[0:10]"
   ]
  },
  {
   "cell_type": "code",
   "execution_count": 1,
   "id": "d63d9b2f",
   "metadata": {},
   "outputs": [],
   "source": [
    "# Lets import all the required libraries\n",
    "import selenium\n",
    "from selenium import webdriver\n",
    "import pandas as pd\n",
    "import warnings\n",
    "warnings.filterwarnings('ignore')\n"
   ]
  },
  {
   "cell_type": "code",
   "execution_count": 3,
   "id": "a0876906",
   "metadata": {},
   "outputs": [],
   "source": [
    "from selenium.webdriver.common.by import By"
   ]
  },
  {
   "cell_type": "code",
   "execution_count": 5,
   "id": "11c5ceeb",
   "metadata": {},
   "outputs": [],
   "source": [
    "driver= webdriver.Chrome(r'C:\\Users\\haufa617\\Downloads\\chromedriver_win32 (1)\\chromedriver.exe')"
   ]
  },
  {
   "cell_type": "code",
   "execution_count": 6,
   "id": "bb90d48b",
   "metadata": {},
   "outputs": [],
   "source": [
    "url= 'https://www.flipkart.com/'\n",
    "driver.get(url)"
   ]
  },
  {
   "cell_type": "code",
   "execution_count": 7,
   "id": "1c8473b1",
   "metadata": {},
   "outputs": [
    {
     "data": {
      "text/plain": [
       "<selenium.webdriver.remote.webelement.WebElement (session=\"a04f1ed358a316ecc22e14b1fb8cacea\", element=\"4c39d55b-6257-4e3f-b396-745264be2681\")>"
      ]
     },
     "execution_count": 7,
     "metadata": {},
     "output_type": "execute_result"
    }
   ],
   "source": [
    "search_product = driver.find_element(By.CLASS_NAME,\"_3704LK \")\n",
    "search_product"
   ]
  },
  {
   "cell_type": "code",
   "execution_count": 8,
   "id": "401a16d4",
   "metadata": {},
   "outputs": [],
   "source": [
    "search_product.send_keys(\"Sunglasses\")"
   ]
  },
  {
   "cell_type": "code",
   "execution_count": 10,
   "id": "867f16a9",
   "metadata": {},
   "outputs": [
    {
     "data": {
      "text/plain": [
       "<selenium.webdriver.remote.webelement.WebElement (session=\"a04f1ed358a316ecc22e14b1fb8cacea\", element=\"40e637ad-229c-42fc-9a16-37ffdb975597\")>"
      ]
     },
     "execution_count": 10,
     "metadata": {},
     "output_type": "execute_result"
    }
   ],
   "source": [
    "search_btn= driver.find_element(By.XPATH,\"/html/body/div[1]/div/div[1]/div[1]/div[2]/div[2]/form/div/button\")\n",
    "search_btn\n"
   ]
  },
  {
   "cell_type": "code",
   "execution_count": 11,
   "id": "554cf927",
   "metadata": {},
   "outputs": [],
   "source": [
    "search_btn.click()"
   ]
  },
  {
   "cell_type": "code",
   "execution_count": 27,
   "id": "5998facd",
   "metadata": {},
   "outputs": [],
   "source": [
    "title_tag = driver.find_elements(By.XPATH,'//a[@class=\"IRpwTa\"]')"
   ]
  },
  {
   "cell_type": "code",
   "execution_count": 23,
   "id": "8ab3e0db",
   "metadata": {},
   "outputs": [
    {
     "data": {
      "text/plain": [
       "[]"
      ]
     },
     "execution_count": 23,
     "metadata": {},
     "output_type": "execute_result"
    }
   ],
   "source": [
    "title_tag"
   ]
  },
  {
   "cell_type": "code",
   "execution_count": 67,
   "id": "3d68ae0a",
   "metadata": {},
   "outputs": [
    {
     "data": {
      "text/plain": [
       "40"
      ]
     },
     "execution_count": 67,
     "metadata": {},
     "output_type": "execute_result"
    }
   ],
   "source": [
    "specs_title =[]\n",
    "\n",
    "for i in title_tag:\n",
    "    specs_title.append(i.text)\n",
    "len(specs_title)"
   ]
  },
  {
   "cell_type": "code",
   "execution_count": 68,
   "id": "8d2dfd55",
   "metadata": {},
   "outputs": [
    {
     "data": {
      "text/plain": [
       "['UV Protection, Gradient Round Sunglasses (Free Size)',\n",
       " 'UV Protection Rectangular Sunglasses (52)',\n",
       " 'UV Protection, Night Vision, Riding Glasses Wayfarer, W...',\n",
       " 'UV Protection Round Sunglasses (54)',\n",
       " 'UV Protection Rectangular Sunglasses (Free Size)',\n",
       " 'UV Protection, Polarized Wayfarer Sunglasses (Free Size...',\n",
       " 'UV Protection Aviator Sunglasses (54)',\n",
       " 'by Lenskart UV Protection Wayfarer Sunglasses (51)',\n",
       " 'UV Protection Rectangular Sunglasses (Free Size)',\n",
       " 'UV Protection Aviator Sunglasses (58)',\n",
       " 'UV Protection Wayfarer Sunglasses (Free Size)',\n",
       " 'UV Protection Spectacle Sunglasses (Free Size)',\n",
       " 'Polarized, Riding Glasses Sports, Wrap-around Sunglasse...',\n",
       " 'UV Protection Aviator Sunglasses (54)',\n",
       " 'UV Protection, Gradient Retro Square Sunglasses (Free S...',\n",
       " 'Polarized Retro Square Sunglasses (61)',\n",
       " 'UV Protection Wayfarer Sunglasses (50)',\n",
       " 'UV Protection Aviator Sunglasses (54)',\n",
       " 'UV Protection Aviator Sunglasses (Free Size)',\n",
       " 'UV Protection, Polarized Wayfarer Sunglasses (54)',\n",
       " 'UV Protection, Polarized, Mirrored Rectangular Sunglass...',\n",
       " 'UV Protection Sports Sunglasses (62)',\n",
       " 'UV Protection Wayfarer Sunglasses (32)',\n",
       " 'UV Protection Aviator Sunglasses (57)',\n",
       " 'Riding Glasses Wrap-around Sunglasses (Free Size)',\n",
       " 'Mirrored, Night Vision Oval Sunglasses (Free Size)',\n",
       " 'UV Protection Cat-eye Sunglasses (Free Size)',\n",
       " 'Polarized, UV Protection Wrap-around Sunglasses (62)',\n",
       " 'UV Protection Rectangular Sunglasses (Free Size)',\n",
       " 'UV Protection Round Sunglasses (53)',\n",
       " 'UV Protection, Polarized, Mirrored Retro Square Sunglas...',\n",
       " 'Others Oval Sunglasses (53)',\n",
       " 'UV Protection Shield Sunglasses (Free Size)',\n",
       " 'UV Protection Rectangular Sunglasses (Free Size)',\n",
       " 'UV Protection Round Sunglasses (Free Size)',\n",
       " 'UV Protection Retro Square Sunglasses (60)',\n",
       " 'UV Protection Shield Sunglasses (Free Size)',\n",
       " 'UV Protection, Gradient Rectangular Sunglasses (Free Si...',\n",
       " 'Polarized, UV Protection, Mirrored, Gradient Rectangula...',\n",
       " 'Mirrored, Gradient Cat-eye Sunglasses (Free Size)']"
      ]
     },
     "execution_count": 68,
     "metadata": {},
     "output_type": "execute_result"
    }
   ],
   "source": [
    "specs_title"
   ]
  },
  {
   "cell_type": "code",
   "execution_count": 39,
   "id": "5377092f",
   "metadata": {},
   "outputs": [],
   "source": [
    "price_tag = driver.find_elements(By.XPATH,'//a[@class=\"_3bPFwb\"]')"
   ]
  },
  {
   "cell_type": "code",
   "execution_count": 40,
   "id": "bd8a240d",
   "metadata": {},
   "outputs": [
    {
     "data": {
      "text/plain": [
       "40"
      ]
     },
     "execution_count": 40,
     "metadata": {},
     "output_type": "execute_result"
    }
   ],
   "source": [
    "price_title =[]\n",
    "\n",
    "for i in price_tag:\n",
    "    price_title.append(i.text)\n",
    "len(price_title)"
   ]
  },
  {
   "cell_type": "code",
   "execution_count": 41,
   "id": "c101f78c",
   "metadata": {},
   "outputs": [
    {
     "data": {
      "text/plain": [
       "['₹379₹1,99981% off',\n",
       " '₹649₹1,99967% off',\n",
       " '₹177₹99982% off',\n",
       " '₹298₹2,49588% off',\n",
       " '₹264₹2,59989% off',\n",
       " '₹283₹1,29978% off',\n",
       " '₹249₹1,59984% off\\nFree delivery',\n",
       " '₹749₹1,99962% off\\nFree delivery',\n",
       " '₹639₹79920% off\\nFree delivery',\n",
       " '₹359₹2,59986% off\\nFree delivery',\n",
       " '₹719₹99928% off\\nFree delivery',\n",
       " '₹379₹1,99981% off\\nFree delivery',\n",
       " '₹474₹1,99976% off\\nFree delivery',\n",
       " '₹249₹1,59984% off\\nFree delivery',\n",
       " '₹331₹1,99983% off\\nFree delivery',\n",
       " '₹699₹1,49953% off\\nFree delivery',\n",
       " '₹211₹1,29983% off\\nFree delivery',\n",
       " '₹246₹1,59984% off\\nFree delivery',\n",
       " '₹639₹79920% off\\nFree delivery',\n",
       " '₹759₹1,99962% off\\nFree delivery',\n",
       " '₹195₹1,69988% off\\nFree delivery',\n",
       " '₹291₹1,24576% off\\nFree delivery',\n",
       " '₹226₹1,59985% off\\nFree delivery',\n",
       " '₹314₹1,99984% off\\nFree delivery',\n",
       " '₹299₹2,49988% off\\nFree delivery',\n",
       " '₹189₹59968% off\\nFree delivery',\n",
       " '₹229₹1,29982% off\\nFree delivery',\n",
       " '₹759₹1,99962% off\\nFree delivery',\n",
       " '₹303₹1,49979% off\\nFree delivery',\n",
       " '₹199₹1,59987% off\\nFree delivery',\n",
       " '₹259₹1,29980% off\\nFree delivery',\n",
       " '₹3,199₹6,39049% off\\nFree delivery',\n",
       " '₹719₹89920% off\\nFree delivery',\n",
       " '₹219₹99978% off\\nFree delivery',\n",
       " '₹289₹1,29977% off\\nFree delivery',\n",
       " '₹569₹1,99971% off\\nFree delivery',\n",
       " '₹809₹89910% off\\nFree delivery',\n",
       " '₹379₹1,99981% off\\nFree delivery',\n",
       " '₹529₹2,09974% off\\nFree delivery',\n",
       " '₹197₹69971% off\\nFree delivery']"
      ]
     },
     "execution_count": 41,
     "metadata": {},
     "output_type": "execute_result"
    }
   ],
   "source": [
    "price_title"
   ]
  },
  {
   "cell_type": "code",
   "execution_count": 71,
   "id": "b4c3f3a8",
   "metadata": {},
   "outputs": [
    {
     "data": {
      "text/html": [
       "<div>\n",
       "<style scoped>\n",
       "    .dataframe tbody tr th:only-of-type {\n",
       "        vertical-align: middle;\n",
       "    }\n",
       "\n",
       "    .dataframe tbody tr th {\n",
       "        vertical-align: top;\n",
       "    }\n",
       "\n",
       "    .dataframe thead th {\n",
       "        text-align: right;\n",
       "    }\n",
       "</style>\n",
       "<table border=\"1\" class=\"dataframe\">\n",
       "  <thead>\n",
       "    <tr style=\"text-align: right;\">\n",
       "      <th></th>\n",
       "      <th>specs</th>\n",
       "      <th>price</th>\n",
       "    </tr>\n",
       "  </thead>\n",
       "  <tbody>\n",
       "    <tr>\n",
       "      <th>0</th>\n",
       "      <td>UV Protection, Gradient Round Sunglasses (Free...</td>\n",
       "      <td>₹379₹1,99981% off</td>\n",
       "    </tr>\n",
       "    <tr>\n",
       "      <th>1</th>\n",
       "      <td>UV Protection Rectangular Sunglasses (52)</td>\n",
       "      <td>₹649₹1,99967% off</td>\n",
       "    </tr>\n",
       "    <tr>\n",
       "      <th>2</th>\n",
       "      <td>UV Protection, Night Vision, Riding Glasses Wa...</td>\n",
       "      <td>₹177₹99982% off</td>\n",
       "    </tr>\n",
       "    <tr>\n",
       "      <th>3</th>\n",
       "      <td>UV Protection Round Sunglasses (54)</td>\n",
       "      <td>₹298₹2,49588% off</td>\n",
       "    </tr>\n",
       "    <tr>\n",
       "      <th>4</th>\n",
       "      <td>UV Protection Rectangular Sunglasses (Free Size)</td>\n",
       "      <td>₹264₹2,59989% off</td>\n",
       "    </tr>\n",
       "    <tr>\n",
       "      <th>5</th>\n",
       "      <td>UV Protection, Polarized Wayfarer Sunglasses (...</td>\n",
       "      <td>₹283₹1,29978% off</td>\n",
       "    </tr>\n",
       "    <tr>\n",
       "      <th>6</th>\n",
       "      <td>UV Protection Aviator Sunglasses (54)</td>\n",
       "      <td>₹249₹1,59984% off\\nFree delivery</td>\n",
       "    </tr>\n",
       "    <tr>\n",
       "      <th>7</th>\n",
       "      <td>by Lenskart UV Protection Wayfarer Sunglasses ...</td>\n",
       "      <td>₹749₹1,99962% off\\nFree delivery</td>\n",
       "    </tr>\n",
       "    <tr>\n",
       "      <th>8</th>\n",
       "      <td>UV Protection Rectangular Sunglasses (Free Size)</td>\n",
       "      <td>₹639₹79920% off\\nFree delivery</td>\n",
       "    </tr>\n",
       "    <tr>\n",
       "      <th>9</th>\n",
       "      <td>UV Protection Aviator Sunglasses (58)</td>\n",
       "      <td>₹359₹2,59986% off\\nFree delivery</td>\n",
       "    </tr>\n",
       "    <tr>\n",
       "      <th>10</th>\n",
       "      <td>UV Protection Wayfarer Sunglasses (Free Size)</td>\n",
       "      <td>₹719₹99928% off\\nFree delivery</td>\n",
       "    </tr>\n",
       "    <tr>\n",
       "      <th>11</th>\n",
       "      <td>UV Protection Spectacle Sunglasses (Free Size)</td>\n",
       "      <td>₹379₹1,99981% off\\nFree delivery</td>\n",
       "    </tr>\n",
       "    <tr>\n",
       "      <th>12</th>\n",
       "      <td>Polarized, Riding Glasses Sports, Wrap-around ...</td>\n",
       "      <td>₹474₹1,99976% off\\nFree delivery</td>\n",
       "    </tr>\n",
       "    <tr>\n",
       "      <th>13</th>\n",
       "      <td>UV Protection Aviator Sunglasses (54)</td>\n",
       "      <td>₹249₹1,59984% off\\nFree delivery</td>\n",
       "    </tr>\n",
       "    <tr>\n",
       "      <th>14</th>\n",
       "      <td>UV Protection, Gradient Retro Square Sunglasse...</td>\n",
       "      <td>₹331₹1,99983% off\\nFree delivery</td>\n",
       "    </tr>\n",
       "    <tr>\n",
       "      <th>15</th>\n",
       "      <td>Polarized Retro Square Sunglasses (61)</td>\n",
       "      <td>₹699₹1,49953% off\\nFree delivery</td>\n",
       "    </tr>\n",
       "    <tr>\n",
       "      <th>16</th>\n",
       "      <td>UV Protection Wayfarer Sunglasses (50)</td>\n",
       "      <td>₹211₹1,29983% off\\nFree delivery</td>\n",
       "    </tr>\n",
       "    <tr>\n",
       "      <th>17</th>\n",
       "      <td>UV Protection Aviator Sunglasses (54)</td>\n",
       "      <td>₹246₹1,59984% off\\nFree delivery</td>\n",
       "    </tr>\n",
       "    <tr>\n",
       "      <th>18</th>\n",
       "      <td>UV Protection Aviator Sunglasses (Free Size)</td>\n",
       "      <td>₹639₹79920% off\\nFree delivery</td>\n",
       "    </tr>\n",
       "    <tr>\n",
       "      <th>19</th>\n",
       "      <td>UV Protection, Polarized Wayfarer Sunglasses (54)</td>\n",
       "      <td>₹759₹1,99962% off\\nFree delivery</td>\n",
       "    </tr>\n",
       "    <tr>\n",
       "      <th>20</th>\n",
       "      <td>UV Protection, Polarized, Mirrored Rectangular...</td>\n",
       "      <td>₹195₹1,69988% off\\nFree delivery</td>\n",
       "    </tr>\n",
       "    <tr>\n",
       "      <th>21</th>\n",
       "      <td>UV Protection Sports Sunglasses (62)</td>\n",
       "      <td>₹291₹1,24576% off\\nFree delivery</td>\n",
       "    </tr>\n",
       "    <tr>\n",
       "      <th>22</th>\n",
       "      <td>UV Protection Wayfarer Sunglasses (32)</td>\n",
       "      <td>₹226₹1,59985% off\\nFree delivery</td>\n",
       "    </tr>\n",
       "    <tr>\n",
       "      <th>23</th>\n",
       "      <td>UV Protection Aviator Sunglasses (57)</td>\n",
       "      <td>₹314₹1,99984% off\\nFree delivery</td>\n",
       "    </tr>\n",
       "    <tr>\n",
       "      <th>24</th>\n",
       "      <td>Riding Glasses Wrap-around Sunglasses (Free Size)</td>\n",
       "      <td>₹299₹2,49988% off\\nFree delivery</td>\n",
       "    </tr>\n",
       "    <tr>\n",
       "      <th>25</th>\n",
       "      <td>Mirrored, Night Vision Oval Sunglasses (Free S...</td>\n",
       "      <td>₹189₹59968% off\\nFree delivery</td>\n",
       "    </tr>\n",
       "    <tr>\n",
       "      <th>26</th>\n",
       "      <td>UV Protection Cat-eye Sunglasses (Free Size)</td>\n",
       "      <td>₹229₹1,29982% off\\nFree delivery</td>\n",
       "    </tr>\n",
       "    <tr>\n",
       "      <th>27</th>\n",
       "      <td>Polarized, UV Protection Wrap-around Sunglasse...</td>\n",
       "      <td>₹759₹1,99962% off\\nFree delivery</td>\n",
       "    </tr>\n",
       "    <tr>\n",
       "      <th>28</th>\n",
       "      <td>UV Protection Rectangular Sunglasses (Free Size)</td>\n",
       "      <td>₹303₹1,49979% off\\nFree delivery</td>\n",
       "    </tr>\n",
       "    <tr>\n",
       "      <th>29</th>\n",
       "      <td>UV Protection Round Sunglasses (53)</td>\n",
       "      <td>₹199₹1,59987% off\\nFree delivery</td>\n",
       "    </tr>\n",
       "    <tr>\n",
       "      <th>30</th>\n",
       "      <td>UV Protection, Polarized, Mirrored Retro Squar...</td>\n",
       "      <td>₹259₹1,29980% off\\nFree delivery</td>\n",
       "    </tr>\n",
       "    <tr>\n",
       "      <th>31</th>\n",
       "      <td>Others Oval Sunglasses (53)</td>\n",
       "      <td>₹3,199₹6,39049% off\\nFree delivery</td>\n",
       "    </tr>\n",
       "    <tr>\n",
       "      <th>32</th>\n",
       "      <td>UV Protection Shield Sunglasses (Free Size)</td>\n",
       "      <td>₹719₹89920% off\\nFree delivery</td>\n",
       "    </tr>\n",
       "    <tr>\n",
       "      <th>33</th>\n",
       "      <td>UV Protection Rectangular Sunglasses (Free Size)</td>\n",
       "      <td>₹219₹99978% off\\nFree delivery</td>\n",
       "    </tr>\n",
       "    <tr>\n",
       "      <th>34</th>\n",
       "      <td>UV Protection Round Sunglasses (Free Size)</td>\n",
       "      <td>₹289₹1,29977% off\\nFree delivery</td>\n",
       "    </tr>\n",
       "    <tr>\n",
       "      <th>35</th>\n",
       "      <td>UV Protection Retro Square Sunglasses (60)</td>\n",
       "      <td>₹569₹1,99971% off\\nFree delivery</td>\n",
       "    </tr>\n",
       "    <tr>\n",
       "      <th>36</th>\n",
       "      <td>UV Protection Shield Sunglasses (Free Size)</td>\n",
       "      <td>₹809₹89910% off\\nFree delivery</td>\n",
       "    </tr>\n",
       "    <tr>\n",
       "      <th>37</th>\n",
       "      <td>UV Protection, Gradient Rectangular Sunglasses...</td>\n",
       "      <td>₹379₹1,99981% off\\nFree delivery</td>\n",
       "    </tr>\n",
       "    <tr>\n",
       "      <th>38</th>\n",
       "      <td>Polarized, UV Protection, Mirrored, Gradient R...</td>\n",
       "      <td>₹529₹2,09974% off\\nFree delivery</td>\n",
       "    </tr>\n",
       "    <tr>\n",
       "      <th>39</th>\n",
       "      <td>Mirrored, Gradient Cat-eye Sunglasses (Free Size)</td>\n",
       "      <td>₹197₹69971% off\\nFree delivery</td>\n",
       "    </tr>\n",
       "  </tbody>\n",
       "</table>\n",
       "</div>"
      ],
      "text/plain": [
       "                                                specs  \\\n",
       "0   UV Protection, Gradient Round Sunglasses (Free...   \n",
       "1           UV Protection Rectangular Sunglasses (52)   \n",
       "2   UV Protection, Night Vision, Riding Glasses Wa...   \n",
       "3                 UV Protection Round Sunglasses (54)   \n",
       "4    UV Protection Rectangular Sunglasses (Free Size)   \n",
       "5   UV Protection, Polarized Wayfarer Sunglasses (...   \n",
       "6               UV Protection Aviator Sunglasses (54)   \n",
       "7   by Lenskart UV Protection Wayfarer Sunglasses ...   \n",
       "8    UV Protection Rectangular Sunglasses (Free Size)   \n",
       "9               UV Protection Aviator Sunglasses (58)   \n",
       "10      UV Protection Wayfarer Sunglasses (Free Size)   \n",
       "11     UV Protection Spectacle Sunglasses (Free Size)   \n",
       "12  Polarized, Riding Glasses Sports, Wrap-around ...   \n",
       "13              UV Protection Aviator Sunglasses (54)   \n",
       "14  UV Protection, Gradient Retro Square Sunglasse...   \n",
       "15             Polarized Retro Square Sunglasses (61)   \n",
       "16             UV Protection Wayfarer Sunglasses (50)   \n",
       "17              UV Protection Aviator Sunglasses (54)   \n",
       "18       UV Protection Aviator Sunglasses (Free Size)   \n",
       "19  UV Protection, Polarized Wayfarer Sunglasses (54)   \n",
       "20  UV Protection, Polarized, Mirrored Rectangular...   \n",
       "21               UV Protection Sports Sunglasses (62)   \n",
       "22             UV Protection Wayfarer Sunglasses (32)   \n",
       "23              UV Protection Aviator Sunglasses (57)   \n",
       "24  Riding Glasses Wrap-around Sunglasses (Free Size)   \n",
       "25  Mirrored, Night Vision Oval Sunglasses (Free S...   \n",
       "26       UV Protection Cat-eye Sunglasses (Free Size)   \n",
       "27  Polarized, UV Protection Wrap-around Sunglasse...   \n",
       "28   UV Protection Rectangular Sunglasses (Free Size)   \n",
       "29                UV Protection Round Sunglasses (53)   \n",
       "30  UV Protection, Polarized, Mirrored Retro Squar...   \n",
       "31                        Others Oval Sunglasses (53)   \n",
       "32        UV Protection Shield Sunglasses (Free Size)   \n",
       "33   UV Protection Rectangular Sunglasses (Free Size)   \n",
       "34         UV Protection Round Sunglasses (Free Size)   \n",
       "35         UV Protection Retro Square Sunglasses (60)   \n",
       "36        UV Protection Shield Sunglasses (Free Size)   \n",
       "37  UV Protection, Gradient Rectangular Sunglasses...   \n",
       "38  Polarized, UV Protection, Mirrored, Gradient R...   \n",
       "39  Mirrored, Gradient Cat-eye Sunglasses (Free Size)   \n",
       "\n",
       "                                 price  \n",
       "0                    ₹379₹1,99981% off  \n",
       "1                    ₹649₹1,99967% off  \n",
       "2                      ₹177₹99982% off  \n",
       "3                    ₹298₹2,49588% off  \n",
       "4                    ₹264₹2,59989% off  \n",
       "5                    ₹283₹1,29978% off  \n",
       "6     ₹249₹1,59984% off\\nFree delivery  \n",
       "7     ₹749₹1,99962% off\\nFree delivery  \n",
       "8       ₹639₹79920% off\\nFree delivery  \n",
       "9     ₹359₹2,59986% off\\nFree delivery  \n",
       "10      ₹719₹99928% off\\nFree delivery  \n",
       "11    ₹379₹1,99981% off\\nFree delivery  \n",
       "12    ₹474₹1,99976% off\\nFree delivery  \n",
       "13    ₹249₹1,59984% off\\nFree delivery  \n",
       "14    ₹331₹1,99983% off\\nFree delivery  \n",
       "15    ₹699₹1,49953% off\\nFree delivery  \n",
       "16    ₹211₹1,29983% off\\nFree delivery  \n",
       "17    ₹246₹1,59984% off\\nFree delivery  \n",
       "18      ₹639₹79920% off\\nFree delivery  \n",
       "19    ₹759₹1,99962% off\\nFree delivery  \n",
       "20    ₹195₹1,69988% off\\nFree delivery  \n",
       "21    ₹291₹1,24576% off\\nFree delivery  \n",
       "22    ₹226₹1,59985% off\\nFree delivery  \n",
       "23    ₹314₹1,99984% off\\nFree delivery  \n",
       "24    ₹299₹2,49988% off\\nFree delivery  \n",
       "25      ₹189₹59968% off\\nFree delivery  \n",
       "26    ₹229₹1,29982% off\\nFree delivery  \n",
       "27    ₹759₹1,99962% off\\nFree delivery  \n",
       "28    ₹303₹1,49979% off\\nFree delivery  \n",
       "29    ₹199₹1,59987% off\\nFree delivery  \n",
       "30    ₹259₹1,29980% off\\nFree delivery  \n",
       "31  ₹3,199₹6,39049% off\\nFree delivery  \n",
       "32      ₹719₹89920% off\\nFree delivery  \n",
       "33      ₹219₹99978% off\\nFree delivery  \n",
       "34    ₹289₹1,29977% off\\nFree delivery  \n",
       "35    ₹569₹1,99971% off\\nFree delivery  \n",
       "36      ₹809₹89910% off\\nFree delivery  \n",
       "37    ₹379₹1,99981% off\\nFree delivery  \n",
       "38    ₹529₹2,09974% off\\nFree delivery  \n",
       "39      ₹197₹69971% off\\nFree delivery  "
      ]
     },
     "execution_count": 71,
     "metadata": {},
     "output_type": "execute_result"
    }
   ],
   "source": [
    "sun_glasses=pd.DataFrame()\n",
    "sun_glasses['specs']= specs_title\n",
    "sun_glasses['price']= price_title\n",
    "sun_glasses"
   ]
  },
  {
   "cell_type": "code",
   "execution_count": 75,
   "id": "4b1ee6fb",
   "metadata": {},
   "outputs": [],
   "source": [
    "brand_name=driver.find_elements(By.XPATH,'//div[@class=\"_2WkVRV\"]')"
   ]
  },
  {
   "cell_type": "code",
   "execution_count": 76,
   "id": "3313064c",
   "metadata": {},
   "outputs": [
    {
     "data": {
      "text/plain": [
       "40"
      ]
     },
     "execution_count": 76,
     "metadata": {},
     "output_type": "execute_result"
    }
   ],
   "source": [
    "name =[]\n",
    "\n",
    "for i in brand_name:\n",
    "    name.append(i.text)\n",
    "len(name)"
   ]
  },
  {
   "cell_type": "code",
   "execution_count": 77,
   "id": "a5fb860b",
   "metadata": {},
   "outputs": [
    {
     "data": {
      "text/html": [
       "<div>\n",
       "<style scoped>\n",
       "    .dataframe tbody tr th:only-of-type {\n",
       "        vertical-align: middle;\n",
       "    }\n",
       "\n",
       "    .dataframe tbody tr th {\n",
       "        vertical-align: top;\n",
       "    }\n",
       "\n",
       "    .dataframe thead th {\n",
       "        text-align: right;\n",
       "    }\n",
       "</style>\n",
       "<table border=\"1\" class=\"dataframe\">\n",
       "  <thead>\n",
       "    <tr style=\"text-align: right;\">\n",
       "      <th></th>\n",
       "      <th>specs</th>\n",
       "      <th>price</th>\n",
       "      <th>brand</th>\n",
       "    </tr>\n",
       "  </thead>\n",
       "  <tbody>\n",
       "    <tr>\n",
       "      <th>0</th>\n",
       "      <td>UV Protection, Gradient Round Sunglasses (Free...</td>\n",
       "      <td>₹379₹1,99981% off</td>\n",
       "      <td>ROZZETTA CRAFT</td>\n",
       "    </tr>\n",
       "    <tr>\n",
       "      <th>1</th>\n",
       "      <td>UV Protection Rectangular Sunglasses (52)</td>\n",
       "      <td>₹649₹1,99967% off</td>\n",
       "      <td>VINCENT CHASE</td>\n",
       "    </tr>\n",
       "    <tr>\n",
       "      <th>2</th>\n",
       "      <td>UV Protection, Night Vision, Riding Glasses Wa...</td>\n",
       "      <td>₹177₹99982% off</td>\n",
       "      <td>DAHAAZIL</td>\n",
       "    </tr>\n",
       "    <tr>\n",
       "      <th>3</th>\n",
       "      <td>UV Protection Round Sunglasses (54)</td>\n",
       "      <td>₹298₹2,49588% off</td>\n",
       "      <td>Elligator</td>\n",
       "    </tr>\n",
       "    <tr>\n",
       "      <th>4</th>\n",
       "      <td>UV Protection Rectangular Sunglasses (Free Size)</td>\n",
       "      <td>₹264₹2,59989% off</td>\n",
       "      <td>New Specs</td>\n",
       "    </tr>\n",
       "    <tr>\n",
       "      <th>5</th>\n",
       "      <td>UV Protection, Polarized Wayfarer Sunglasses (...</td>\n",
       "      <td>₹283₹1,29978% off</td>\n",
       "      <td>SUNBEE</td>\n",
       "    </tr>\n",
       "    <tr>\n",
       "      <th>6</th>\n",
       "      <td>UV Protection Aviator Sunglasses (54)</td>\n",
       "      <td>₹249₹1,59984% off\\nFree delivery</td>\n",
       "      <td>PIRASO</td>\n",
       "    </tr>\n",
       "    <tr>\n",
       "      <th>7</th>\n",
       "      <td>by Lenskart UV Protection Wayfarer Sunglasses ...</td>\n",
       "      <td>₹749₹1,99962% off\\nFree delivery</td>\n",
       "      <td>VINCENT CHASE</td>\n",
       "    </tr>\n",
       "    <tr>\n",
       "      <th>8</th>\n",
       "      <td>UV Protection Rectangular Sunglasses (Free Size)</td>\n",
       "      <td>₹639₹79920% off\\nFree delivery</td>\n",
       "      <td>Fastrack</td>\n",
       "    </tr>\n",
       "    <tr>\n",
       "      <th>9</th>\n",
       "      <td>UV Protection Aviator Sunglasses (58)</td>\n",
       "      <td>₹359₹2,59986% off\\nFree delivery</td>\n",
       "      <td>PIRASO</td>\n",
       "    </tr>\n",
       "    <tr>\n",
       "      <th>10</th>\n",
       "      <td>UV Protection Wayfarer Sunglasses (Free Size)</td>\n",
       "      <td>₹719₹99928% off\\nFree delivery</td>\n",
       "      <td>Fastrack</td>\n",
       "    </tr>\n",
       "    <tr>\n",
       "      <th>11</th>\n",
       "      <td>UV Protection Spectacle Sunglasses (Free Size)</td>\n",
       "      <td>₹379₹1,99981% off\\nFree delivery</td>\n",
       "      <td>ROZZETTA CRAFT</td>\n",
       "    </tr>\n",
       "    <tr>\n",
       "      <th>12</th>\n",
       "      <td>Polarized, Riding Glasses Sports, Wrap-around ...</td>\n",
       "      <td>₹474₹1,99976% off\\nFree delivery</td>\n",
       "      <td>ROZZETTA CRAFT</td>\n",
       "    </tr>\n",
       "    <tr>\n",
       "      <th>13</th>\n",
       "      <td>UV Protection Aviator Sunglasses (54)</td>\n",
       "      <td>₹249₹1,59984% off\\nFree delivery</td>\n",
       "      <td>PIRASO</td>\n",
       "    </tr>\n",
       "    <tr>\n",
       "      <th>14</th>\n",
       "      <td>UV Protection, Gradient Retro Square Sunglasse...</td>\n",
       "      <td>₹331₹1,99983% off\\nFree delivery</td>\n",
       "      <td>ROZZETTA CRAFT</td>\n",
       "    </tr>\n",
       "    <tr>\n",
       "      <th>15</th>\n",
       "      <td>Polarized Retro Square Sunglasses (61)</td>\n",
       "      <td>₹699₹1,49953% off\\nFree delivery</td>\n",
       "      <td>ROYAL SON</td>\n",
       "    </tr>\n",
       "    <tr>\n",
       "      <th>16</th>\n",
       "      <td>UV Protection Wayfarer Sunglasses (50)</td>\n",
       "      <td>₹211₹1,29983% off\\nFree delivery</td>\n",
       "      <td>SRPM</td>\n",
       "    </tr>\n",
       "    <tr>\n",
       "      <th>17</th>\n",
       "      <td>UV Protection Aviator Sunglasses (54)</td>\n",
       "      <td>₹246₹1,59984% off\\nFree delivery</td>\n",
       "      <td>PIRASO</td>\n",
       "    </tr>\n",
       "    <tr>\n",
       "      <th>18</th>\n",
       "      <td>UV Protection Aviator Sunglasses (Free Size)</td>\n",
       "      <td>₹639₹79920% off\\nFree delivery</td>\n",
       "      <td>Fastrack</td>\n",
       "    </tr>\n",
       "    <tr>\n",
       "      <th>19</th>\n",
       "      <td>UV Protection, Polarized Wayfarer Sunglasses (54)</td>\n",
       "      <td>₹759₹1,99962% off\\nFree delivery</td>\n",
       "      <td>ROYAL SON</td>\n",
       "    </tr>\n",
       "    <tr>\n",
       "      <th>20</th>\n",
       "      <td>UV Protection, Polarized, Mirrored Rectangular...</td>\n",
       "      <td>₹195₹1,69988% off\\nFree delivery</td>\n",
       "      <td>SHAAH COLLECTIONS</td>\n",
       "    </tr>\n",
       "    <tr>\n",
       "      <th>21</th>\n",
       "      <td>UV Protection Sports Sunglasses (62)</td>\n",
       "      <td>₹291₹1,24576% off\\nFree delivery</td>\n",
       "      <td>NuVew</td>\n",
       "    </tr>\n",
       "    <tr>\n",
       "      <th>22</th>\n",
       "      <td>UV Protection Wayfarer Sunglasses (32)</td>\n",
       "      <td>₹226₹1,59985% off\\nFree delivery</td>\n",
       "      <td>PIRASO</td>\n",
       "    </tr>\n",
       "    <tr>\n",
       "      <th>23</th>\n",
       "      <td>UV Protection Aviator Sunglasses (57)</td>\n",
       "      <td>₹314₹1,99984% off\\nFree delivery</td>\n",
       "      <td>GANSTA</td>\n",
       "    </tr>\n",
       "    <tr>\n",
       "      <th>24</th>\n",
       "      <td>Riding Glasses Wrap-around Sunglasses (Free Size)</td>\n",
       "      <td>₹299₹2,49988% off\\nFree delivery</td>\n",
       "      <td>Lee Topper</td>\n",
       "    </tr>\n",
       "    <tr>\n",
       "      <th>25</th>\n",
       "      <td>Mirrored, Night Vision Oval Sunglasses (Free S...</td>\n",
       "      <td>₹189₹59968% off\\nFree delivery</td>\n",
       "      <td>CRYSTAL CART</td>\n",
       "    </tr>\n",
       "    <tr>\n",
       "      <th>26</th>\n",
       "      <td>UV Protection Cat-eye Sunglasses (Free Size)</td>\n",
       "      <td>₹229₹1,29982% off\\nFree delivery</td>\n",
       "      <td>Lee Topper</td>\n",
       "    </tr>\n",
       "    <tr>\n",
       "      <th>27</th>\n",
       "      <td>Polarized, UV Protection Wrap-around Sunglasse...</td>\n",
       "      <td>₹759₹1,99962% off\\nFree delivery</td>\n",
       "      <td>ROYAL SON</td>\n",
       "    </tr>\n",
       "    <tr>\n",
       "      <th>28</th>\n",
       "      <td>UV Protection Rectangular Sunglasses (Free Size)</td>\n",
       "      <td>₹303₹1,49979% off\\nFree delivery</td>\n",
       "      <td>ROZZETTA CRAFT</td>\n",
       "    </tr>\n",
       "    <tr>\n",
       "      <th>29</th>\n",
       "      <td>UV Protection Round Sunglasses (53)</td>\n",
       "      <td>₹199₹1,59987% off\\nFree delivery</td>\n",
       "      <td>HAMIW COLLECTION</td>\n",
       "    </tr>\n",
       "    <tr>\n",
       "      <th>30</th>\n",
       "      <td>UV Protection, Polarized, Mirrored Retro Squar...</td>\n",
       "      <td>₹259₹1,29980% off\\nFree delivery</td>\n",
       "      <td>SUNBEE</td>\n",
       "    </tr>\n",
       "    <tr>\n",
       "      <th>31</th>\n",
       "      <td>Others Oval Sunglasses (53)</td>\n",
       "      <td>₹3,199₹6,39049% off\\nFree delivery</td>\n",
       "      <td>Arnette</td>\n",
       "    </tr>\n",
       "    <tr>\n",
       "      <th>32</th>\n",
       "      <td>UV Protection Shield Sunglasses (Free Size)</td>\n",
       "      <td>₹719₹89920% off\\nFree delivery</td>\n",
       "      <td>Fastrack</td>\n",
       "    </tr>\n",
       "    <tr>\n",
       "      <th>33</th>\n",
       "      <td>UV Protection Rectangular Sunglasses (Free Size)</td>\n",
       "      <td>₹219₹99978% off\\nFree delivery</td>\n",
       "      <td>Lee Topper</td>\n",
       "    </tr>\n",
       "    <tr>\n",
       "      <th>34</th>\n",
       "      <td>UV Protection Round Sunglasses (Free Size)</td>\n",
       "      <td>₹289₹1,29977% off\\nFree delivery</td>\n",
       "      <td>SHAAH COLLECTIONS</td>\n",
       "    </tr>\n",
       "    <tr>\n",
       "      <th>35</th>\n",
       "      <td>UV Protection Retro Square Sunglasses (60)</td>\n",
       "      <td>₹569₹1,99971% off\\nFree delivery</td>\n",
       "      <td>ROYAL SON</td>\n",
       "    </tr>\n",
       "    <tr>\n",
       "      <th>36</th>\n",
       "      <td>UV Protection Shield Sunglasses (Free Size)</td>\n",
       "      <td>₹809₹89910% off\\nFree delivery</td>\n",
       "      <td>Fastrack</td>\n",
       "    </tr>\n",
       "    <tr>\n",
       "      <th>37</th>\n",
       "      <td>UV Protection, Gradient Rectangular Sunglasses...</td>\n",
       "      <td>₹379₹1,99981% off\\nFree delivery</td>\n",
       "      <td>ROZZETTA CRAFT</td>\n",
       "    </tr>\n",
       "    <tr>\n",
       "      <th>38</th>\n",
       "      <td>Polarized, UV Protection, Mirrored, Gradient R...</td>\n",
       "      <td>₹529₹2,09974% off\\nFree delivery</td>\n",
       "      <td>CRYSTAL CART</td>\n",
       "    </tr>\n",
       "    <tr>\n",
       "      <th>39</th>\n",
       "      <td>Mirrored, Gradient Cat-eye Sunglasses (Free Size)</td>\n",
       "      <td>₹197₹69971% off\\nFree delivery</td>\n",
       "      <td>IZAAN MART</td>\n",
       "    </tr>\n",
       "  </tbody>\n",
       "</table>\n",
       "</div>"
      ],
      "text/plain": [
       "                                                specs  \\\n",
       "0   UV Protection, Gradient Round Sunglasses (Free...   \n",
       "1           UV Protection Rectangular Sunglasses (52)   \n",
       "2   UV Protection, Night Vision, Riding Glasses Wa...   \n",
       "3                 UV Protection Round Sunglasses (54)   \n",
       "4    UV Protection Rectangular Sunglasses (Free Size)   \n",
       "5   UV Protection, Polarized Wayfarer Sunglasses (...   \n",
       "6               UV Protection Aviator Sunglasses (54)   \n",
       "7   by Lenskart UV Protection Wayfarer Sunglasses ...   \n",
       "8    UV Protection Rectangular Sunglasses (Free Size)   \n",
       "9               UV Protection Aviator Sunglasses (58)   \n",
       "10      UV Protection Wayfarer Sunglasses (Free Size)   \n",
       "11     UV Protection Spectacle Sunglasses (Free Size)   \n",
       "12  Polarized, Riding Glasses Sports, Wrap-around ...   \n",
       "13              UV Protection Aviator Sunglasses (54)   \n",
       "14  UV Protection, Gradient Retro Square Sunglasse...   \n",
       "15             Polarized Retro Square Sunglasses (61)   \n",
       "16             UV Protection Wayfarer Sunglasses (50)   \n",
       "17              UV Protection Aviator Sunglasses (54)   \n",
       "18       UV Protection Aviator Sunglasses (Free Size)   \n",
       "19  UV Protection, Polarized Wayfarer Sunglasses (54)   \n",
       "20  UV Protection, Polarized, Mirrored Rectangular...   \n",
       "21               UV Protection Sports Sunglasses (62)   \n",
       "22             UV Protection Wayfarer Sunglasses (32)   \n",
       "23              UV Protection Aviator Sunglasses (57)   \n",
       "24  Riding Glasses Wrap-around Sunglasses (Free Size)   \n",
       "25  Mirrored, Night Vision Oval Sunglasses (Free S...   \n",
       "26       UV Protection Cat-eye Sunglasses (Free Size)   \n",
       "27  Polarized, UV Protection Wrap-around Sunglasse...   \n",
       "28   UV Protection Rectangular Sunglasses (Free Size)   \n",
       "29                UV Protection Round Sunglasses (53)   \n",
       "30  UV Protection, Polarized, Mirrored Retro Squar...   \n",
       "31                        Others Oval Sunglasses (53)   \n",
       "32        UV Protection Shield Sunglasses (Free Size)   \n",
       "33   UV Protection Rectangular Sunglasses (Free Size)   \n",
       "34         UV Protection Round Sunglasses (Free Size)   \n",
       "35         UV Protection Retro Square Sunglasses (60)   \n",
       "36        UV Protection Shield Sunglasses (Free Size)   \n",
       "37  UV Protection, Gradient Rectangular Sunglasses...   \n",
       "38  Polarized, UV Protection, Mirrored, Gradient R...   \n",
       "39  Mirrored, Gradient Cat-eye Sunglasses (Free Size)   \n",
       "\n",
       "                                 price              brand  \n",
       "0                    ₹379₹1,99981% off     ROZZETTA CRAFT  \n",
       "1                    ₹649₹1,99967% off      VINCENT CHASE  \n",
       "2                      ₹177₹99982% off           DAHAAZIL  \n",
       "3                    ₹298₹2,49588% off          Elligator  \n",
       "4                    ₹264₹2,59989% off          New Specs  \n",
       "5                    ₹283₹1,29978% off             SUNBEE  \n",
       "6     ₹249₹1,59984% off\\nFree delivery             PIRASO  \n",
       "7     ₹749₹1,99962% off\\nFree delivery      VINCENT CHASE  \n",
       "8       ₹639₹79920% off\\nFree delivery           Fastrack  \n",
       "9     ₹359₹2,59986% off\\nFree delivery             PIRASO  \n",
       "10      ₹719₹99928% off\\nFree delivery           Fastrack  \n",
       "11    ₹379₹1,99981% off\\nFree delivery     ROZZETTA CRAFT  \n",
       "12    ₹474₹1,99976% off\\nFree delivery     ROZZETTA CRAFT  \n",
       "13    ₹249₹1,59984% off\\nFree delivery             PIRASO  \n",
       "14    ₹331₹1,99983% off\\nFree delivery     ROZZETTA CRAFT  \n",
       "15    ₹699₹1,49953% off\\nFree delivery          ROYAL SON  \n",
       "16    ₹211₹1,29983% off\\nFree delivery               SRPM  \n",
       "17    ₹246₹1,59984% off\\nFree delivery             PIRASO  \n",
       "18      ₹639₹79920% off\\nFree delivery           Fastrack  \n",
       "19    ₹759₹1,99962% off\\nFree delivery          ROYAL SON  \n",
       "20    ₹195₹1,69988% off\\nFree delivery  SHAAH COLLECTIONS  \n",
       "21    ₹291₹1,24576% off\\nFree delivery              NuVew  \n",
       "22    ₹226₹1,59985% off\\nFree delivery             PIRASO  \n",
       "23    ₹314₹1,99984% off\\nFree delivery             GANSTA  \n",
       "24    ₹299₹2,49988% off\\nFree delivery         Lee Topper  \n",
       "25      ₹189₹59968% off\\nFree delivery       CRYSTAL CART  \n",
       "26    ₹229₹1,29982% off\\nFree delivery         Lee Topper  \n",
       "27    ₹759₹1,99962% off\\nFree delivery          ROYAL SON  \n",
       "28    ₹303₹1,49979% off\\nFree delivery     ROZZETTA CRAFT  \n",
       "29    ₹199₹1,59987% off\\nFree delivery   HAMIW COLLECTION  \n",
       "30    ₹259₹1,29980% off\\nFree delivery             SUNBEE  \n",
       "31  ₹3,199₹6,39049% off\\nFree delivery            Arnette  \n",
       "32      ₹719₹89920% off\\nFree delivery           Fastrack  \n",
       "33      ₹219₹99978% off\\nFree delivery         Lee Topper  \n",
       "34    ₹289₹1,29977% off\\nFree delivery  SHAAH COLLECTIONS  \n",
       "35    ₹569₹1,99971% off\\nFree delivery          ROYAL SON  \n",
       "36      ₹809₹89910% off\\nFree delivery           Fastrack  \n",
       "37    ₹379₹1,99981% off\\nFree delivery     ROZZETTA CRAFT  \n",
       "38    ₹529₹2,09974% off\\nFree delivery       CRYSTAL CART  \n",
       "39      ₹197₹69971% off\\nFree delivery         IZAAN MART  "
      ]
     },
     "execution_count": 77,
     "metadata": {},
     "output_type": "execute_result"
    }
   ],
   "source": [
    "sun_glasses=pd.DataFrame()\n",
    "sun_glasses['specs']= specs_title\n",
    "sun_glasses['price']= price_title\n",
    "sun_glasses['brand']=name\n",
    "sun_glasses"
   ]
  },
  {
   "cell_type": "code",
   "execution_count": null,
   "id": "f6592aaf",
   "metadata": {},
   "outputs": [],
   "source": []
  }
 ],
 "metadata": {
  "kernelspec": {
   "display_name": "Python 3 (ipykernel)",
   "language": "python",
   "name": "python3"
  },
  "language_info": {
   "codemirror_mode": {
    "name": "ipython",
    "version": 3
   },
   "file_extension": ".py",
   "mimetype": "text/x-python",
   "name": "python",
   "nbconvert_exporter": "python",
   "pygments_lexer": "ipython3",
   "version": "3.9.7"
  }
 },
 "nbformat": 4,
 "nbformat_minor": 5
}
